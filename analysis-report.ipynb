{
 "cells": [
  {
   "cell_type": "markdown",
   "metadata": {},
   "source": [
    "# Análise de dados do Titanic\n",
    "Este projeto consiste em analisar dados sobre passageiros do Titanic disponíveis [no site do Kaggle](https://www.kaggle.com/c/titanic/data) para conclusão do curso Fundamentos de Data Science I do Udacity. Existe liberdade para seleção de perguntas a serem feitas sobre os dados. Todos os processos de análise dos dados serão demonstrados.\n",
    "### Etapas da análise\n",
    "A análise será realizada em várias etapas:\n",
    "- Etapa 1: Elaboração de perguntas a serem respondidas sobre os dados\n",
    "\n",
    "Para cada uma das perguntas definidas, a análise seguirá em outras 3 etapas:\n",
    "- Etapa 2: Limpeza dos dados  \n",
    "- Etapa 3: Análise dos dados em si para resposta das perguntas  \n",
    "- Etapa 4: Tomada de conclusões  \n",
    "\n",
    "### Bibliotecas utilizadas\n",
    "A análise será feita com o uso da linguagem Python (versão 3.6.4) e as seguintes bibliotecas:\n",
    "- Pandas (leitura dos dados CSV como DataFrames) - versão 0.22.0;\n",
    "- Numpy (manipulação de vetores (*arrays*) ) - versão 1.14.0\n",
    "- Matplotlib (criação de gráficos) - versão 2.1.2\n",
    "- Seaborn (estilização de gráficos) - versão 0.8.1"
   ]
  },
  {
   "cell_type": "code",
   "execution_count": 1,
   "metadata": {},
   "outputs": [],
   "source": [
    "# Importando as bibliotecas\n",
    "import pandas as pd\n",
    "import numpy as np\n",
    "import matplotlib as mpl\n",
    "% matplotlib inline\n",
    "import seaborn as sns"
   ]
  },
  {
   "cell_type": "markdown",
   "metadata": {},
   "source": [
    "### Índice\n",
    "1. [**Etapa 1: Elaboração de perguntas**](#1)  \n",
    "2. [**Pergunta 1: Passageiros de que faixa etária foram os que mais morreram?**](#2)  \n",
    " 2.1. [Etapa 2: Limpeza dos dados](#2.1)  \n",
    " 2.2. [Etapa 3: Análise dos dados em si para resposta à Pergunta 1](#2.2)  \n",
    " 2.3. [Etapa 4: Tomada de conclusões](#2.3)  \n",
    "3. [**Pergunta 2: Qual foi o sexo mais presente no Titanic?**](#3)  \n",
    " 3.1. [Etapa 2: Limpeza dos dados](#3.1)  \n",
    " 3.2. [Etapa 3: Análise dos dados em si para resposta à Pergunta 2](#3.2)  \n",
    " 3.3. [Etapa 4: Tomada de conclusões](#3.3)  \n",
    "4. [**Pergunta 3: Qual foi a média de preço do ticket?**](#4)  \n",
    " 4.1. [Etapa 2: Limpeza dos dados](#4.1)  \n",
    " 4.2. [Etapa 3: Análise dos dados em si para resposta à Pergunta 3](#4.2)  \n",
    " 4.3. [Etapa 4: Tomada de conclusões](#4.3)  \n",
    "5. [**Pergunta 4: Como foi a distribuição de pessoas entre as classes do Titanic?**](#5)  \n",
    " 5.1. [Etapa 2: Limpeza dos dados](#5.1)  \n",
    " 5.2. [Etapa 3: Análise dos dados em si para resposta à Pergunta 4](#5.2)  \n",
    " 5.3. [Etapa 4: Tomada de conclusões](#5.3)  \n",
    "\n",
    "## Etapa 1: Elaboração de perguntas <a name=\"1\"></a>\n",
    "Precisamos analisar pelo menos uma variável dependente e três variáveis independentes. "
   ]
  },
  {
   "cell_type": "code",
   "execution_count": 2,
   "metadata": {},
   "outputs": [
    {
     "data": {
      "text/html": [
       "<div>\n",
       "<style scoped>\n",
       "    .dataframe tbody tr th:only-of-type {\n",
       "        vertical-align: middle;\n",
       "    }\n",
       "\n",
       "    .dataframe tbody tr th {\n",
       "        vertical-align: top;\n",
       "    }\n",
       "\n",
       "    .dataframe thead th {\n",
       "        text-align: right;\n",
       "    }\n",
       "</style>\n",
       "<table border=\"1\" class=\"dataframe\">\n",
       "  <thead>\n",
       "    <tr style=\"text-align: right;\">\n",
       "      <th></th>\n",
       "      <th>PassengerId</th>\n",
       "      <th>Survived</th>\n",
       "      <th>Pclass</th>\n",
       "      <th>Name</th>\n",
       "      <th>Sex</th>\n",
       "      <th>Age</th>\n",
       "      <th>SibSp</th>\n",
       "      <th>Parch</th>\n",
       "      <th>Ticket</th>\n",
       "      <th>Fare</th>\n",
       "      <th>Cabin</th>\n",
       "      <th>Embarked</th>\n",
       "    </tr>\n",
       "  </thead>\n",
       "  <tbody>\n",
       "    <tr>\n",
       "      <th>0</th>\n",
       "      <td>1</td>\n",
       "      <td>0</td>\n",
       "      <td>3</td>\n",
       "      <td>Braund, Mr. Owen Harris</td>\n",
       "      <td>male</td>\n",
       "      <td>22.0</td>\n",
       "      <td>1</td>\n",
       "      <td>0</td>\n",
       "      <td>A/5 21171</td>\n",
       "      <td>7.2500</td>\n",
       "      <td>NaN</td>\n",
       "      <td>S</td>\n",
       "    </tr>\n",
       "    <tr>\n",
       "      <th>1</th>\n",
       "      <td>2</td>\n",
       "      <td>1</td>\n",
       "      <td>1</td>\n",
       "      <td>Cumings, Mrs. John Bradley (Florence Briggs Th...</td>\n",
       "      <td>female</td>\n",
       "      <td>38.0</td>\n",
       "      <td>1</td>\n",
       "      <td>0</td>\n",
       "      <td>PC 17599</td>\n",
       "      <td>71.2833</td>\n",
       "      <td>C85</td>\n",
       "      <td>C</td>\n",
       "    </tr>\n",
       "    <tr>\n",
       "      <th>2</th>\n",
       "      <td>3</td>\n",
       "      <td>1</td>\n",
       "      <td>3</td>\n",
       "      <td>Heikkinen, Miss. Laina</td>\n",
       "      <td>female</td>\n",
       "      <td>26.0</td>\n",
       "      <td>0</td>\n",
       "      <td>0</td>\n",
       "      <td>STON/O2. 3101282</td>\n",
       "      <td>7.9250</td>\n",
       "      <td>NaN</td>\n",
       "      <td>S</td>\n",
       "    </tr>\n",
       "    <tr>\n",
       "      <th>3</th>\n",
       "      <td>4</td>\n",
       "      <td>1</td>\n",
       "      <td>1</td>\n",
       "      <td>Futrelle, Mrs. Jacques Heath (Lily May Peel)</td>\n",
       "      <td>female</td>\n",
       "      <td>35.0</td>\n",
       "      <td>1</td>\n",
       "      <td>0</td>\n",
       "      <td>113803</td>\n",
       "      <td>53.1000</td>\n",
       "      <td>C123</td>\n",
       "      <td>S</td>\n",
       "    </tr>\n",
       "    <tr>\n",
       "      <th>4</th>\n",
       "      <td>5</td>\n",
       "      <td>0</td>\n",
       "      <td>3</td>\n",
       "      <td>Allen, Mr. William Henry</td>\n",
       "      <td>male</td>\n",
       "      <td>35.0</td>\n",
       "      <td>0</td>\n",
       "      <td>0</td>\n",
       "      <td>373450</td>\n",
       "      <td>8.0500</td>\n",
       "      <td>NaN</td>\n",
       "      <td>S</td>\n",
       "    </tr>\n",
       "  </tbody>\n",
       "</table>\n",
       "</div>"
      ],
      "text/plain": [
       "   PassengerId  Survived  Pclass  \\\n",
       "0            1         0       3   \n",
       "1            2         1       1   \n",
       "2            3         1       3   \n",
       "3            4         1       1   \n",
       "4            5         0       3   \n",
       "\n",
       "                                                Name     Sex   Age  SibSp  \\\n",
       "0                            Braund, Mr. Owen Harris    male  22.0      1   \n",
       "1  Cumings, Mrs. John Bradley (Florence Briggs Th...  female  38.0      1   \n",
       "2                             Heikkinen, Miss. Laina  female  26.0      0   \n",
       "3       Futrelle, Mrs. Jacques Heath (Lily May Peel)  female  35.0      1   \n",
       "4                           Allen, Mr. William Henry    male  35.0      0   \n",
       "\n",
       "   Parch            Ticket     Fare Cabin Embarked  \n",
       "0      0         A/5 21171   7.2500   NaN        S  \n",
       "1      0          PC 17599  71.2833   C85        C  \n",
       "2      0  STON/O2. 3101282   7.9250   NaN        S  \n",
       "3      0            113803  53.1000  C123        S  \n",
       "4      0            373450   8.0500   NaN        S  "
      ]
     },
     "execution_count": 2,
     "metadata": {},
     "output_type": "execute_result"
    }
   ],
   "source": [
    "# Lendo e conferindo os dados disponíveis\n",
    "df = pd.read_csv('titanic-data-6.csv')\n",
    "df.head()"
   ]
  },
  {
   "cell_type": "markdown",
   "metadata": {},
   "source": [
    "Como variáveis dependentes, identificamos: a classe do ticket (`pclass`), que depende do preço do ticket, a idade do passageiro, etc.; e a sobrevivência (`survived`), que depende, provavelmente, do sexo do passageiro, de sua idade e da classe do seu ticket.\n",
    "As variáveis restantes são independentes: são, basicamente, fatos sobre cada passageiro.\n",
    "\n",
    "Para análise de uma variável dependente, propomos a seguinte pergunta:\n",
    "> **Pergunta 1: Passageiros de que faixa etária foram os que mais morreram?**\n",
    "\n",
    "Para análise de três variáveis independentes, propomos as seguintes perguntas:\n",
    "> **Pergunta 2: Qual foi o sexo mais presente no Titanic?**  \n",
    "> **Pergunta 3: Qual foi a média de preço do ticket?**  \n",
    "> **Pergunta 4: Como foi a distribuição de pessoas entre as classes do Titanic?**\n",
    "\n",
    "## Pergunta 1: Passageiros de que faixa etária foram os que mais morreram? <a name=\"2\"></a>\n",
    "### Etapa 2: Limpeza dos dados <a name=\"2.1\"></a>\n",
    "Os dados necessários são:\n",
    "- Número de passageiros que não sobreviveram, representado pela quantidade de entradas = 0 na coluna `Survived`;\n",
    "- Faixas de idade, representado pela coluna `Age`."
   ]
  },
  {
   "cell_type": "code",
   "execution_count": 3,
   "metadata": {},
   "outputs": [
    {
     "data": {
      "text/html": [
       "<div>\n",
       "<style scoped>\n",
       "    .dataframe tbody tr th:only-of-type {\n",
       "        vertical-align: middle;\n",
       "    }\n",
       "\n",
       "    .dataframe tbody tr th {\n",
       "        vertical-align: top;\n",
       "    }\n",
       "\n",
       "    .dataframe thead th {\n",
       "        text-align: right;\n",
       "    }\n",
       "</style>\n",
       "<table border=\"1\" class=\"dataframe\">\n",
       "  <thead>\n",
       "    <tr style=\"text-align: right;\">\n",
       "      <th></th>\n",
       "      <th>passengerid</th>\n",
       "      <th>survived</th>\n",
       "      <th>pclass</th>\n",
       "      <th>name</th>\n",
       "      <th>sex</th>\n",
       "      <th>age</th>\n",
       "      <th>sibsp</th>\n",
       "      <th>parch</th>\n",
       "      <th>ticket</th>\n",
       "      <th>fare</th>\n",
       "      <th>cabin</th>\n",
       "      <th>embarked</th>\n",
       "    </tr>\n",
       "  </thead>\n",
       "  <tbody>\n",
       "    <tr>\n",
       "      <th>0</th>\n",
       "      <td>1</td>\n",
       "      <td>0</td>\n",
       "      <td>3</td>\n",
       "      <td>Braund, Mr. Owen Harris</td>\n",
       "      <td>male</td>\n",
       "      <td>22.0</td>\n",
       "      <td>1</td>\n",
       "      <td>0</td>\n",
       "      <td>A/5 21171</td>\n",
       "      <td>7.25</td>\n",
       "      <td>NaN</td>\n",
       "      <td>S</td>\n",
       "    </tr>\n",
       "  </tbody>\n",
       "</table>\n",
       "</div>"
      ],
      "text/plain": [
       "   passengerid  survived  pclass                     name   sex   age  sibsp  \\\n",
       "0            1         0       3  Braund, Mr. Owen Harris  male  22.0      1   \n",
       "\n",
       "   parch     ticket  fare cabin embarked  \n",
       "0      0  A/5 21171  7.25   NaN        S  "
      ]
     },
     "execution_count": 3,
     "metadata": {},
     "output_type": "execute_result"
    }
   ],
   "source": [
    "# Renomeando colunas para facilitar a referência\n",
    "df.rename(columns=lambda x: x.lower(), inplace=True)\n",
    "df.head(1)"
   ]
  },
  {
   "cell_type": "code",
   "execution_count": 4,
   "metadata": {},
   "outputs": [
    {
     "name": "stdout",
     "output_type": "stream",
     "text": [
      "Não há nomes duplicados.\n"
     ]
    }
   ],
   "source": [
    "# Verificando se há nomes duplicados (e, consequentemente, linhas duplicadas)\n",
    "if df['name'].duplicated().sum() == 0:\n",
    "    print('Não há nomes duplicados.')\n",
    "else:\n",
    "    print('Há nomes duplicados!')"
   ]
  },
  {
   "cell_type": "code",
   "execution_count": 5,
   "metadata": {},
   "outputs": [
    {
     "data": {
      "text/plain": [
       "passengerid    False\n",
       "survived       False\n",
       "pclass         False\n",
       "name           False\n",
       "sex            False\n",
       "age             True\n",
       "sibsp          False\n",
       "parch          False\n",
       "ticket         False\n",
       "fare           False\n",
       "cabin           True\n",
       "embarked        True\n",
       "dtype: bool"
      ]
     },
     "execution_count": 5,
     "metadata": {},
     "output_type": "execute_result"
    }
   ],
   "source": [
    "# Verificando a existência de valores vazios\n",
    "df.isnull().any()"
   ]
  },
  {
   "cell_type": "markdown",
   "metadata": {},
   "source": [
    "Não há valores vazios em `survived`, mas há valores vazios em `age`. Os valores vazios em `age` podem enviesar a resposta à pergunta 1. É melhor eliminar as linhas com valores vazios. Não podemos preenchê-las com outro valor (como a média das idades, por exemplo) porque isso poderia fazer com que uma das faixas etárias tivesse muito mais mortes do que as outras."
   ]
  },
  {
   "cell_type": "code",
   "execution_count": 6,
   "metadata": {
    "scrolled": true
   },
   "outputs": [
    {
     "data": {
      "text/plain": [
       "[5, 17, 19, 26, 28]"
      ]
     },
     "execution_count": 6,
     "metadata": {},
     "output_type": "execute_result"
    }
   ],
   "source": [
    "# Verificando se o que está vazio é apenas a coluna em questão\n",
    "## Primeiro, vamos obter índices de alguma linha que tem valores vazios em 'age'\n",
    "null_in_age = [i for i, v in df['age'].iteritems() if pd.isnull(v)][:5]\n",
    "null_in_age"
   ]
  },
  {
   "cell_type": "code",
   "execution_count": 7,
   "metadata": {},
   "outputs": [
    {
     "data": {
      "text/html": [
       "<div>\n",
       "<style scoped>\n",
       "    .dataframe tbody tr th:only-of-type {\n",
       "        vertical-align: middle;\n",
       "    }\n",
       "\n",
       "    .dataframe tbody tr th {\n",
       "        vertical-align: top;\n",
       "    }\n",
       "\n",
       "    .dataframe thead th {\n",
       "        text-align: right;\n",
       "    }\n",
       "</style>\n",
       "<table border=\"1\" class=\"dataframe\">\n",
       "  <thead>\n",
       "    <tr style=\"text-align: right;\">\n",
       "      <th></th>\n",
       "      <th>passengerid</th>\n",
       "      <th>survived</th>\n",
       "      <th>pclass</th>\n",
       "      <th>name</th>\n",
       "      <th>sex</th>\n",
       "      <th>age</th>\n",
       "      <th>sibsp</th>\n",
       "      <th>parch</th>\n",
       "      <th>ticket</th>\n",
       "      <th>fare</th>\n",
       "      <th>cabin</th>\n",
       "      <th>embarked</th>\n",
       "    </tr>\n",
       "  </thead>\n",
       "  <tbody>\n",
       "    <tr>\n",
       "      <th>5</th>\n",
       "      <td>6</td>\n",
       "      <td>0</td>\n",
       "      <td>3</td>\n",
       "      <td>Moran, Mr. James</td>\n",
       "      <td>male</td>\n",
       "      <td>NaN</td>\n",
       "      <td>0</td>\n",
       "      <td>0</td>\n",
       "      <td>330877</td>\n",
       "      <td>8.4583</td>\n",
       "      <td>NaN</td>\n",
       "      <td>Q</td>\n",
       "    </tr>\n",
       "    <tr>\n",
       "      <th>17</th>\n",
       "      <td>18</td>\n",
       "      <td>1</td>\n",
       "      <td>2</td>\n",
       "      <td>Williams, Mr. Charles Eugene</td>\n",
       "      <td>male</td>\n",
       "      <td>NaN</td>\n",
       "      <td>0</td>\n",
       "      <td>0</td>\n",
       "      <td>244373</td>\n",
       "      <td>13.0000</td>\n",
       "      <td>NaN</td>\n",
       "      <td>S</td>\n",
       "    </tr>\n",
       "    <tr>\n",
       "      <th>19</th>\n",
       "      <td>20</td>\n",
       "      <td>1</td>\n",
       "      <td>3</td>\n",
       "      <td>Masselmani, Mrs. Fatima</td>\n",
       "      <td>female</td>\n",
       "      <td>NaN</td>\n",
       "      <td>0</td>\n",
       "      <td>0</td>\n",
       "      <td>2649</td>\n",
       "      <td>7.2250</td>\n",
       "      <td>NaN</td>\n",
       "      <td>C</td>\n",
       "    </tr>\n",
       "    <tr>\n",
       "      <th>26</th>\n",
       "      <td>27</td>\n",
       "      <td>0</td>\n",
       "      <td>3</td>\n",
       "      <td>Emir, Mr. Farred Chehab</td>\n",
       "      <td>male</td>\n",
       "      <td>NaN</td>\n",
       "      <td>0</td>\n",
       "      <td>0</td>\n",
       "      <td>2631</td>\n",
       "      <td>7.2250</td>\n",
       "      <td>NaN</td>\n",
       "      <td>C</td>\n",
       "    </tr>\n",
       "    <tr>\n",
       "      <th>28</th>\n",
       "      <td>29</td>\n",
       "      <td>1</td>\n",
       "      <td>3</td>\n",
       "      <td>O'Dwyer, Miss. Ellen \"Nellie\"</td>\n",
       "      <td>female</td>\n",
       "      <td>NaN</td>\n",
       "      <td>0</td>\n",
       "      <td>0</td>\n",
       "      <td>330959</td>\n",
       "      <td>7.8792</td>\n",
       "      <td>NaN</td>\n",
       "      <td>Q</td>\n",
       "    </tr>\n",
       "  </tbody>\n",
       "</table>\n",
       "</div>"
      ],
      "text/plain": [
       "    passengerid  survived  pclass                           name     sex  age  \\\n",
       "5             6         0       3               Moran, Mr. James    male  NaN   \n",
       "17           18         1       2   Williams, Mr. Charles Eugene    male  NaN   \n",
       "19           20         1       3        Masselmani, Mrs. Fatima  female  NaN   \n",
       "26           27         0       3        Emir, Mr. Farred Chehab    male  NaN   \n",
       "28           29         1       3  O'Dwyer, Miss. Ellen \"Nellie\"  female  NaN   \n",
       "\n",
       "    sibsp  parch  ticket     fare cabin embarked  \n",
       "5       0      0  330877   8.4583   NaN        Q  \n",
       "17      0      0  244373  13.0000   NaN        S  \n",
       "19      0      0    2649   7.2250   NaN        C  \n",
       "26      0      0    2631   7.2250   NaN        C  \n",
       "28      0      0  330959   7.8792   NaN        Q  "
      ]
     },
     "execution_count": 7,
     "metadata": {},
     "output_type": "execute_result"
    }
   ],
   "source": [
    "## Depois, vamos verificar se as outras colunas dessas linhas estão preenchidas\n",
    "df.iloc[null_in_age]"
   ]
  },
  {
   "cell_type": "markdown",
   "metadata": {},
   "source": [
    "Como é apenas a coluna age que tem valores vazios, não podemos apagar as linhas com valores vazios no DataFrame original. Vamos copiar os dados úteis para a pergunta em um outro DataFrame e, nele, apagar linhas com valores vazios:"
   ]
  },
  {
   "cell_type": "code",
   "execution_count": 8,
   "metadata": {
    "scrolled": true
   },
   "outputs": [
    {
     "name": "stdout",
     "output_type": "stream",
     "text": [
      "Estamos eliminando 177 linhas de um total de 891 linhas.\n"
     ]
    },
    {
     "data": {
      "text/html": [
       "<div>\n",
       "<style scoped>\n",
       "    .dataframe tbody tr th:only-of-type {\n",
       "        vertical-align: middle;\n",
       "    }\n",
       "\n",
       "    .dataframe tbody tr th {\n",
       "        vertical-align: top;\n",
       "    }\n",
       "\n",
       "    .dataframe thead th {\n",
       "        text-align: right;\n",
       "    }\n",
       "</style>\n",
       "<table border=\"1\" class=\"dataframe\">\n",
       "  <thead>\n",
       "    <tr style=\"text-align: right;\">\n",
       "      <th></th>\n",
       "      <th>survived</th>\n",
       "      <th>age</th>\n",
       "    </tr>\n",
       "  </thead>\n",
       "  <tbody>\n",
       "    <tr>\n",
       "      <th>0</th>\n",
       "      <td>0</td>\n",
       "      <td>22.0</td>\n",
       "    </tr>\n",
       "    <tr>\n",
       "      <th>1</th>\n",
       "      <td>1</td>\n",
       "      <td>38.0</td>\n",
       "    </tr>\n",
       "    <tr>\n",
       "      <th>2</th>\n",
       "      <td>1</td>\n",
       "      <td>26.0</td>\n",
       "    </tr>\n",
       "    <tr>\n",
       "      <th>3</th>\n",
       "      <td>1</td>\n",
       "      <td>35.0</td>\n",
       "    </tr>\n",
       "    <tr>\n",
       "      <th>4</th>\n",
       "      <td>0</td>\n",
       "      <td>35.0</td>\n",
       "    </tr>\n",
       "    <tr>\n",
       "      <th>6</th>\n",
       "      <td>0</td>\n",
       "      <td>54.0</td>\n",
       "    </tr>\n",
       "  </tbody>\n",
       "</table>\n",
       "</div>"
      ],
      "text/plain": [
       "   survived   age\n",
       "0         0  22.0\n",
       "1         1  38.0\n",
       "2         1  26.0\n",
       "3         1  35.0\n",
       "4         0  35.0\n",
       "6         0  54.0"
      ]
     },
     "execution_count": 8,
     "metadata": {},
     "output_type": "execute_result"
    }
   ],
   "source": [
    "print('Estamos eliminando {} linhas de um total de {} linhas.'.format(df['age'].isnull().sum(), df.shape[0]))\n",
    "df_pergunta1 = df.iloc[:, [1, 5]].dropna()\n",
    "df_pergunta1.head(6)"
   ]
  },
  {
   "cell_type": "code",
   "execution_count": 9,
   "metadata": {
    "scrolled": true
   },
   "outputs": [
    {
     "data": {
      "text/html": [
       "<div>\n",
       "<style scoped>\n",
       "    .dataframe tbody tr th:only-of-type {\n",
       "        vertical-align: middle;\n",
       "    }\n",
       "\n",
       "    .dataframe tbody tr th {\n",
       "        vertical-align: top;\n",
       "    }\n",
       "\n",
       "    .dataframe thead th {\n",
       "        text-align: right;\n",
       "    }\n",
       "</style>\n",
       "<table border=\"1\" class=\"dataframe\">\n",
       "  <thead>\n",
       "    <tr style=\"text-align: right;\">\n",
       "      <th></th>\n",
       "      <th>survived</th>\n",
       "      <th>age</th>\n",
       "    </tr>\n",
       "  </thead>\n",
       "  <tbody>\n",
       "    <tr>\n",
       "      <th>0</th>\n",
       "      <td>0</td>\n",
       "      <td>22.0</td>\n",
       "    </tr>\n",
       "    <tr>\n",
       "      <th>1</th>\n",
       "      <td>1</td>\n",
       "      <td>38.0</td>\n",
       "    </tr>\n",
       "    <tr>\n",
       "      <th>2</th>\n",
       "      <td>1</td>\n",
       "      <td>26.0</td>\n",
       "    </tr>\n",
       "    <tr>\n",
       "      <th>3</th>\n",
       "      <td>1</td>\n",
       "      <td>35.0</td>\n",
       "    </tr>\n",
       "    <tr>\n",
       "      <th>4</th>\n",
       "      <td>0</td>\n",
       "      <td>35.0</td>\n",
       "    </tr>\n",
       "    <tr>\n",
       "      <th>5</th>\n",
       "      <td>0</td>\n",
       "      <td>54.0</td>\n",
       "    </tr>\n",
       "  </tbody>\n",
       "</table>\n",
       "</div>"
      ],
      "text/plain": [
       "   survived   age\n",
       "0         0  22.0\n",
       "1         1  38.0\n",
       "2         1  26.0\n",
       "3         1  35.0\n",
       "4         0  35.0\n",
       "5         0  54.0"
      ]
     },
     "execution_count": 9,
     "metadata": {},
     "output_type": "execute_result"
    }
   ],
   "source": [
    "## Os índices das linhas retiradas foram \"pulados\" (deveríamos ver o índice 5). Precisamos renumerar as linhas.\n",
    "df_pergunta1.reset_index(drop=True, inplace=True)\n",
    "df_pergunta1.head(6)"
   ]
  },
  {
   "cell_type": "markdown",
   "metadata": {},
   "source": [
    "Temos, agora, um DataFrame com 2 informações sobre cada passageiro: se ele sobreviveu ou não; sua idade. Esses são os dados necessários para nossa análise.  \n",
    "Precisamos, agora, apenas verificar se os tipos dos dados que temos facilitam a sua manipulação. A análise de `age` é mais fácil se os dados forem float ou int - idades são representadas em valores numéricos."
   ]
  },
  {
   "cell_type": "code",
   "execution_count": 10,
   "metadata": {},
   "outputs": [
    {
     "name": "stdout",
     "output_type": "stream",
     "text": [
      "<class 'pandas.core.frame.DataFrame'>\n",
      "RangeIndex: 714 entries, 0 to 713\n",
      "Data columns (total 2 columns):\n",
      "survived    714 non-null int64\n",
      "age         714 non-null float64\n",
      "dtypes: float64(1), int64(1)\n",
      "memory usage: 11.2 KB\n"
     ]
    }
   ],
   "source": [
    "# Verificando tipos dos dados\n",
    "df_pergunta1.info()"
   ]
  },
  {
   "cell_type": "markdown",
   "metadata": {},
   "source": [
    "Ótimo, os valores são numéricos (são float). Mas eles estão bem preenchidos? Vamos verificar que tipos de idades são encontradas:"
   ]
  },
  {
   "cell_type": "code",
   "execution_count": 11,
   "metadata": {},
   "outputs": [
    {
     "data": {
      "text/plain": [
       "array([22.  , 38.  , 26.  , 35.  , 54.  ,  2.  , 27.  , 14.  ,  4.  ,\n",
       "       58.  , 20.  , 39.  , 55.  , 31.  , 34.  , 15.  , 28.  ,  8.  ,\n",
       "       19.  , 40.  , 66.  , 42.  , 21.  , 18.  ,  3.  ,  7.  , 49.  ,\n",
       "       29.  , 65.  , 28.5 ,  5.  , 11.  , 45.  , 17.  , 32.  , 16.  ,\n",
       "       25.  ,  0.83, 30.  , 33.  , 23.  , 24.  , 46.  , 59.  , 71.  ,\n",
       "       37.  , 47.  , 14.5 , 70.5 , 32.5 , 12.  ,  9.  , 36.5 , 51.  ,\n",
       "       55.5 , 40.5 , 44.  ,  1.  , 61.  , 56.  , 50.  , 36.  , 45.5 ,\n",
       "       20.5 , 62.  , 41.  , 52.  , 63.  , 23.5 ,  0.92, 43.  , 60.  ,\n",
       "       10.  , 64.  , 13.  , 48.  ,  0.75, 53.  , 57.  , 80.  , 70.  ,\n",
       "       24.5 ,  6.  ,  0.67, 30.5 ,  0.42, 34.5 , 74.  ])"
      ]
     },
     "execution_count": 11,
     "metadata": {},
     "output_type": "execute_result"
    }
   ],
   "source": [
    "# Verificando os valores dos dados\n",
    "df_pergunta1['age'].unique()"
   ]
  },
  {
   "cell_type": "markdown",
   "metadata": {},
   "source": [
    "Há alguns valores inesperados, como 0.67 e 32.5. Idades costumam ser retratadas em anos completos!  \n",
    "De acordo com a documentação:\n",
    "> age: Age is fractional if less than 1. If the age is estimated, is it in the form of xx.5\n",
    "\n",
    "As idades de menores de 1 ano enviesam as nossas conclusões porque não permitem uma comparação direta entre menores de 1 ano e maiores de 1 ano: ao passo que nossos valores só serão relevantes para os maiores de 1 ano em faixas de 1 em 1 ano, os valores para os menores de 1 ano não estão agregados dessa mesma maneira.\n",
    "As idades listadas como \"xx.5\" são, na verdade, \"xx\", o que também pode enviesar os nossos dados. As entradas de \"xx.5\" deveriam estar em \"xx\".\n",
    "Desse modo, precisamos:\n",
    "- Alterar a coluna `age` para os menores de 1 ano e deixá-la igual a \"1\";\n",
    "- Alterar a coluna `age` para quem tem idade = \"xx.5\" e deixá-la igual a \"xx\".\n",
    "\n",
    "Para a segunda alteração podemos criar dois DataFrames: um que contém tanto idades estimadas, quanto não estimadas; e um outro que contém apenas as idades sobre as quais temos certeza."
   ]
  },
  {
   "cell_type": "code",
   "execution_count": 12,
   "metadata": {},
   "outputs": [
    {
     "data": {
      "text/html": [
       "<div>\n",
       "<style scoped>\n",
       "    .dataframe tbody tr th:only-of-type {\n",
       "        vertical-align: middle;\n",
       "    }\n",
       "\n",
       "    .dataframe tbody tr th {\n",
       "        vertical-align: top;\n",
       "    }\n",
       "\n",
       "    .dataframe thead th {\n",
       "        text-align: right;\n",
       "    }\n",
       "</style>\n",
       "<table border=\"1\" class=\"dataframe\">\n",
       "  <thead>\n",
       "    <tr style=\"text-align: right;\">\n",
       "      <th></th>\n",
       "      <th>survived</th>\n",
       "      <th>age</th>\n",
       "    </tr>\n",
       "  </thead>\n",
       "  <tbody>\n",
       "  </tbody>\n",
       "</table>\n",
       "</div>"
      ],
      "text/plain": [
       "Empty DataFrame\n",
       "Columns: [survived, age]\n",
       "Index: []"
      ]
     },
     "execution_count": 12,
     "metadata": {},
     "output_type": "execute_result"
    }
   ],
   "source": [
    "# Igualando valores menores que 1 a 1\n",
    "df_pergunta1.loc[df_pergunta1['age'] < 1] = 1\n",
    "# Verificando se deu certo\n",
    "df_pergunta1.query('age < 1') # Terá dado certo se nenhum valor < 1 restar no DataFrame."
   ]
  },
  {
   "cell_type": "code",
   "execution_count": 13,
   "metadata": {
    "scrolled": true
   },
   "outputs": [],
   "source": [
    "# Copiando o DataFrame em outros dois\n",
    "df_pergunta1_estimado = df_pergunta1.copy()\n",
    "df_pergunta1_exato = df_pergunta1.copy()"
   ]
  },
  {
   "cell_type": "code",
   "execution_count": 14,
   "metadata": {
    "scrolled": true
   },
   "outputs": [
    {
     "data": {
      "text/html": [
       "<div>\n",
       "<style scoped>\n",
       "    .dataframe tbody tr th:only-of-type {\n",
       "        vertical-align: middle;\n",
       "    }\n",
       "\n",
       "    .dataframe tbody tr th {\n",
       "        vertical-align: top;\n",
       "    }\n",
       "\n",
       "    .dataframe thead th {\n",
       "        text-align: right;\n",
       "    }\n",
       "</style>\n",
       "<table border=\"1\" class=\"dataframe\">\n",
       "  <thead>\n",
       "    <tr style=\"text-align: right;\">\n",
       "      <th></th>\n",
       "      <th>survived</th>\n",
       "      <th>age</th>\n",
       "    </tr>\n",
       "  </thead>\n",
       "  <tbody>\n",
       "    <tr>\n",
       "      <th>0</th>\n",
       "      <td>0</td>\n",
       "      <td>22</td>\n",
       "    </tr>\n",
       "    <tr>\n",
       "      <th>1</th>\n",
       "      <td>1</td>\n",
       "      <td>38</td>\n",
       "    </tr>\n",
       "    <tr>\n",
       "      <th>2</th>\n",
       "      <td>1</td>\n",
       "      <td>26</td>\n",
       "    </tr>\n",
       "    <tr>\n",
       "      <th>3</th>\n",
       "      <td>1</td>\n",
       "      <td>35</td>\n",
       "    </tr>\n",
       "    <tr>\n",
       "      <th>4</th>\n",
       "      <td>0</td>\n",
       "      <td>35</td>\n",
       "    </tr>\n",
       "  </tbody>\n",
       "</table>\n",
       "</div>"
      ],
      "text/plain": [
       "   survived  age\n",
       "0         0   22\n",
       "1         1   38\n",
       "2         1   26\n",
       "3         1   35\n",
       "4         0   35"
      ]
     },
     "execution_count": 14,
     "metadata": {},
     "output_type": "execute_result"
    }
   ],
   "source": [
    "# No DataFrame apenas com idades exatas, precisamos remover valores no estilo \"xx.5\"\n",
    "## Convertendo valores de age em strings\n",
    "df_pergunta1_exato.age = df_pergunta1_exato.age.astype('str')\n",
    "## Eliminando linhas com valores de age que terminam em \".5\"\n",
    "df_pergunta1_exato.drop(df_pergunta1_exato[df_pergunta1_exato.age.str[-2:] == '.5'].index, inplace = True)\n",
    "## Convertendo os valores de age em int\n",
    "df_pergunta1_exato.age = df_pergunta1_exato.age.astype('float')\n",
    "df_pergunta1_exato.age = df_pergunta1_exato.age.astype('int')\n",
    "## Renumerando as linhas\n",
    "df_pergunta1_exato.reset_index(drop=True, inplace=True)\n",
    "df_pergunta1_exato.head()"
   ]
  },
  {
   "cell_type": "code",
   "execution_count": 15,
   "metadata": {},
   "outputs": [
    {
     "data": {
      "text/plain": [
       "dtype('float64')"
      ]
     },
     "execution_count": 15,
     "metadata": {},
     "output_type": "execute_result"
    }
   ],
   "source": [
    "# No DataFrame com idades estimadas, precisamos igualar valores no estilo \"xx.5\" a \"xx\"\n",
    "df_pergunta1_estimado['age'].apply(lambda x: int(x))\n",
    "# Verificando\n",
    "df_pergunta1_estimado['age'].dtype"
   ]
  },
  {
   "cell_type": "markdown",
   "metadata": {},
   "source": [
    "Agora temos DataFrames com valores numéricos e preenchidos com valores de idade relevantes. Um deles contém apenas idades exatas e o outro contém também diades estimadas. Durante a análise dos dados a seguir, veremos se é realmente útil analisar os DataFrames separadamente.\n",
    "\n",
    "### Etapa 3: Análise dos dados em si para resposta à Pergunta 1 <a name=\"2.2\"></a>\n",
    "\n",
    "Criando gráficos que exibam as idades das pessoas que morreram (`survived` = 0, de acordo com a documentação):"
   ]
  },
  {
   "cell_type": "code",
   "execution_count": 320,
   "metadata": {
    "scrolled": true
   },
   "outputs": [
    {
     "data": {
      "image/png": "[encoded data removed]",
      "text/plain": [
       "<matplotlib.figure.Figure at 0x1e5ca6446a0>"
      ]
     },
     "metadata": {},
     "output_type": "display_data"
    }
   ],
   "source": [
    "# Gráfico com os dados estimados\n",
    "df_pergunta1_estimado.query('survived == 0')['age'].hist(figsize = (10, 5));\n",
    "\n",
    "# Etiquetas e título\n",
    "mpl.pyplot.ylabel('Quantidade de mortes', fontsize=10);\n",
    "mpl.pyplot.xlabel('Idade', fontsize=10);\n",
    "mpl.pyplot.title('Mortes em cada idade (incluindo idades estimadas)', fontsize=15);"
   ]
  },
  {
   "cell_type": "code",
   "execution_count": 321,
   "metadata": {},
   "outputs": [
    {
     "data": {
      "image/png": "[encoded data removed]",
      "text/plain": [
       "<matplotlib.figure.Figure at 0x1e5caecb978>"
      ]
     },
     "metadata": {},
     "output_type": "display_data"
    }
   ],
   "source": [
    "# Gráfico apenas com os dados exatos\n",
    "df_pergunta1_exato.query('survived == 0')['age'].hist(figsize = (10, 5));\n",
    "\n",
    "# Etiquetas e título\n",
    "mpl.pyplot.ylabel('Quantidade de mortes', fontsize=10);\n",
    "mpl.pyplot.xlabel('Idade', fontsize=10);\n",
    "mpl.pyplot.title('Mortes em cada idade (sem incluir idades estimadas)', fontsize=15);"
   ]
  },
  {
   "cell_type": "markdown",
   "metadata": {},
   "source": [
    "Esses gráficos contam o número de mortes de pessoas que tinham certa idade em anos, mas a pergunta fazia referência a uma faixa etária. Podemos agrupar os dados em faixas de 10 anos, desde 0 ano até 80 anos, considerando os dados que temos."
   ]
  },
  {
   "cell_type": "code",
   "execution_count": 18,
   "metadata": {
    "scrolled": true
   },
   "outputs": [
    {
     "data": {
      "text/html": [
       "<div>\n",
       "<style scoped>\n",
       "    .dataframe tbody tr th:only-of-type {\n",
       "        vertical-align: middle;\n",
       "    }\n",
       "\n",
       "    .dataframe tbody tr th {\n",
       "        vertical-align: top;\n",
       "    }\n",
       "\n",
       "    .dataframe thead th {\n",
       "        text-align: right;\n",
       "    }\n",
       "</style>\n",
       "<table border=\"1\" class=\"dataframe\">\n",
       "  <thead>\n",
       "    <tr style=\"text-align: right;\">\n",
       "      <th></th>\n",
       "      <th>survived</th>\n",
       "      <th>age</th>\n",
       "      <th>faixa_etaria</th>\n",
       "    </tr>\n",
       "  </thead>\n",
       "  <tbody>\n",
       "    <tr>\n",
       "      <th>0</th>\n",
       "      <td>0</td>\n",
       "      <td>22.0</td>\n",
       "      <td>20-30 anos</td>\n",
       "    </tr>\n",
       "    <tr>\n",
       "      <th>1</th>\n",
       "      <td>1</td>\n",
       "      <td>38.0</td>\n",
       "      <td>30-40 anos</td>\n",
       "    </tr>\n",
       "    <tr>\n",
       "      <th>2</th>\n",
       "      <td>1</td>\n",
       "      <td>26.0</td>\n",
       "      <td>20-30 anos</td>\n",
       "    </tr>\n",
       "    <tr>\n",
       "      <th>3</th>\n",
       "      <td>1</td>\n",
       "      <td>35.0</td>\n",
       "      <td>30-40 anos</td>\n",
       "    </tr>\n",
       "    <tr>\n",
       "      <th>4</th>\n",
       "      <td>0</td>\n",
       "      <td>35.0</td>\n",
       "      <td>30-40 anos</td>\n",
       "    </tr>\n",
       "  </tbody>\n",
       "</table>\n",
       "</div>"
      ],
      "text/plain": [
       "   survived   age faixa_etaria\n",
       "0         0  22.0   20-30 anos\n",
       "1         1  38.0   30-40 anos\n",
       "2         1  26.0   20-30 anos\n",
       "3         1  35.0   30-40 anos\n",
       "4         0  35.0   30-40 anos"
      ]
     },
     "execution_count": 18,
     "metadata": {},
     "output_type": "execute_result"
    }
   ],
   "source": [
    "# Cortando as colunas age em faixas de 10 em 10 anos até 80 anos\n",
    "bin_edges = [0, 10, 20, 30, 40, 50, 60, 70, 80]\n",
    "bin_names = ['0-10 anos', '10-20 anos', '20-30 anos', '30-40 anos', '40-50 anos', '50-60 anos', '60-70 anos', '70-80 anos']\n",
    "df_pergunta1_estimado['faixa_etaria'] = pd.cut(df_pergunta1_estimado['age'], bin_edges, labels=bin_names)\n",
    "df_pergunta1_exato['faixa_etaria'] = pd.cut(df_pergunta1_exato['age'], bin_edges, labels=bin_names)\n",
    "# Verificando algum dos DataFrames\n",
    "df_pergunta1_estimado.head()"
   ]
  },
  {
   "cell_type": "markdown",
   "metadata": {},
   "source": [
    "Esses DataFrames indicam se cada pessoa sobreviveu, sua idade e em qual faixa etária essa idade se encontra. No entanto, a pergunta quer saber sobre mortes em cada faixa etária. Para isso, precisamos contar quantas mortes ocorreram em cada faixa:"
   ]
  },
  {
   "cell_type": "code",
   "execution_count": 19,
   "metadata": {},
   "outputs": [
    {
     "name": "stdout",
     "output_type": "stream",
     "text": [
      "Mortes em cada faixa etária, contando idades estimadas:\n",
      " 0-10 anos      26\n",
      "10-20 anos     71\n",
      "20-30 anos    146\n",
      "30-40 anos     86\n",
      "40-50 anos     53\n",
      "50-60 anos     25\n",
      "60-70 anos     13\n",
      "70-80 anos      4\n",
      "Name: faixa_etaria, dtype: int64\n",
      "\n",
      "Mortes em cada faixa etária, contando apenas as idades conhecidas:\n",
      " 0-10 anos      26\n",
      "10-20 anos     70\n",
      "20-30 anos    141\n",
      "30-40 anos     81\n",
      "40-50 anos     49\n",
      "50-60 anos     24\n",
      "60-70 anos     13\n",
      "70-80 anos      3\n",
      "Name: faixa_etaria, dtype: int64\n"
     ]
    }
   ],
   "source": [
    "# Obtendo os números de mortes em cada faixa etária\n",
    "df_faixas_etarias_estimadas = df_pergunta1_estimado.query('survived == 0')['faixa_etaria'].value_counts().sort_index()\n",
    "print('Mortes em cada faixa etária, contando idades estimadas:\\n', df_faixas_etarias_estimadas)\n",
    "df_faixas_etarias_exatas = df_pergunta1_exato.query('survived == 0')['faixa_etaria'].value_counts().sort_index()\n",
    "print('\\nMortes em cada faixa etária, contando apenas as idades conhecidas:\\n', df_faixas_etarias_exatas)"
   ]
  },
  {
   "cell_type": "markdown",
   "metadata": {},
   "source": [
    "Percebe-se, inicialmente, que a diferença entre os dados estimados e os dados exatos não é relevante. Vamos verificar a diferença total no número de ocorrêncais:"
   ]
  },
  {
   "cell_type": "code",
   "execution_count": 20,
   "metadata": {},
   "outputs": [
    {
     "data": {
      "text/plain": [
       "18"
      ]
     },
     "execution_count": 20,
     "metadata": {},
     "output_type": "execute_result"
    }
   ],
   "source": [
    "len(df_pergunta1_estimado) - len(df_pergunta1_exato)"
   ]
  },
  {
   "cell_type": "markdown",
   "metadata": {},
   "source": [
    "A diferença é pequena e não afeta as diferenças de ocorrências entre as faixas etárias. Se ordenamos ambas tabelas por número de mortes, a ordem de faixas etárias continua a mesma:"
   ]
  },
  {
   "cell_type": "code",
   "execution_count": 21,
   "metadata": {},
   "outputs": [
    {
     "name": "stdout",
     "output_type": "stream",
     "text": [
      "Mortes em cada faixa etária, contando idades estimadas:\n",
      "20-30 anos    146\n",
      "30-40 anos     86\n",
      "10-20 anos     71\n",
      "40-50 anos     53\n",
      "0-10 anos      26\n",
      "50-60 anos     25\n",
      "60-70 anos     13\n",
      "70-80 anos      4\n",
      "Name: faixa_etaria, dtype: int64\n",
      "\n",
      "Mortes em cada faixa etária, contando apenas as idades conhecidas:\n",
      "20-30 anos    141\n",
      "30-40 anos     81\n",
      "10-20 anos     70\n",
      "40-50 anos     49\n",
      "0-10 anos      26\n",
      "50-60 anos     24\n",
      "60-70 anos     13\n",
      "70-80 anos      3\n",
      "Name: faixa_etaria, dtype: int64\n"
     ]
    }
   ],
   "source": [
    "print('Mortes em cada faixa etária, contando idades estimadas:')\n",
    "print(df_faixas_etarias_estimadas.sort_values(ascending=False))\n",
    "print('\\nMortes em cada faixa etária, contando apenas as idades conhecidas:')\n",
    "print(df_faixas_etarias_exatas.sort_values(ascending=False))"
   ]
  },
  {
   "cell_type": "markdown",
   "metadata": {},
   "source": [
    "Portanto, para resposta à pergunta, podemos passar a usar apenas um dos DataFrames, sem que isso afete significativamente a resposta dada. Usaremos, daqui em diante, apenas os dados de `df_faixas_etarias_estimadas`.\n",
    "\n",
    "Percebe-se que a faixa etária com mais mortes é a de pessoas entre 20 e 30 anos. Podemos apresentar isso em um gráfico:"
   ]
  },
  {
   "cell_type": "code",
   "execution_count": 22,
   "metadata": {},
   "outputs": [
    {
     "data": {
      "image/png": "[encoded data removed]",
      "text/plain": [
       "<matplotlib.figure.Figure at 0x1e5c9b31c18>"
      ]
     },
     "metadata": {},
     "output_type": "display_data"
    }
   ],
   "source": [
    "# Desenhando o gráfico de mortes por faixa etária\n",
    "\n",
    "## Dados do gráfico\n",
    "eixo_y_mortes = df_faixas_etarias_estimadas.values\n",
    "eixo_x1 = np.arange(len(df_faixas_etarias_estimadas))\n",
    "\n",
    "## Desenho do gráfico\n",
    "sns.set_style('ticks')\n",
    "mpl.pyplot.figure(figsize=(15, 10))\n",
    "width = 0.7\n",
    "mpl.pyplot.xticks(eixo_x1, df_faixas_etarias_estimadas.index.values.tolist())\n",
    "mpl.pyplot.ylabel('Quantidade de mortes')\n",
    "mpl.pyplot.title('Mortes por faixa etária')\n",
    "\n",
    "## Chamando o gráfico\n",
    "mpl.pyplot.bar(eixo_x1, eixo_y_mortes, width, color='firebrick')\n",
    "mpl.pyplot.show()"
   ]
  },
  {
   "cell_type": "markdown",
   "metadata": {},
   "source": [
    "As conclusões tomadas podem estar sob um viés de seleção: talvez haja mais mortes para a faixa etária de 20 a 30 anos porque é essa a faixa etária que tinha mais passageiros no Titanic. Seria útil, portanto, analisar dados proporcionais: quantos % de cada faixa etária morreu?"
   ]
  },
  {
   "cell_type": "code",
   "execution_count": 23,
   "metadata": {},
   "outputs": [
    {
     "data": {
      "text/html": [
       "<div>\n",
       "<style scoped>\n",
       "    .dataframe tbody tr th:only-of-type {\n",
       "        vertical-align: middle;\n",
       "    }\n",
       "\n",
       "    .dataframe tbody tr th {\n",
       "        vertical-align: top;\n",
       "    }\n",
       "\n",
       "    .dataframe thead th {\n",
       "        text-align: right;\n",
       "    }\n",
       "</style>\n",
       "<table border=\"1\" class=\"dataframe\">\n",
       "  <thead>\n",
       "    <tr style=\"text-align: right;\">\n",
       "      <th>survived</th>\n",
       "      <th>0</th>\n",
       "      <th>1</th>\n",
       "      <th>total</th>\n",
       "      <th>0/total (%)</th>\n",
       "      <th>1/total (%)</th>\n",
       "    </tr>\n",
       "    <tr>\n",
       "      <th>faixa_etaria</th>\n",
       "      <th></th>\n",
       "      <th></th>\n",
       "      <th></th>\n",
       "      <th></th>\n",
       "      <th></th>\n",
       "    </tr>\n",
       "  </thead>\n",
       "  <tbody>\n",
       "    <tr>\n",
       "      <th>0-10 anos</th>\n",
       "      <td>26</td>\n",
       "      <td>38</td>\n",
       "      <td>64</td>\n",
       "      <td>40.62</td>\n",
       "      <td>59.38</td>\n",
       "    </tr>\n",
       "    <tr>\n",
       "      <th>10-20 anos</th>\n",
       "      <td>71</td>\n",
       "      <td>44</td>\n",
       "      <td>115</td>\n",
       "      <td>61.74</td>\n",
       "      <td>38.26</td>\n",
       "    </tr>\n",
       "    <tr>\n",
       "      <th>20-30 anos</th>\n",
       "      <td>146</td>\n",
       "      <td>84</td>\n",
       "      <td>230</td>\n",
       "      <td>63.48</td>\n",
       "      <td>36.52</td>\n",
       "    </tr>\n",
       "    <tr>\n",
       "      <th>30-40 anos</th>\n",
       "      <td>86</td>\n",
       "      <td>69</td>\n",
       "      <td>155</td>\n",
       "      <td>55.48</td>\n",
       "      <td>44.52</td>\n",
       "    </tr>\n",
       "    <tr>\n",
       "      <th>40-50 anos</th>\n",
       "      <td>53</td>\n",
       "      <td>33</td>\n",
       "      <td>86</td>\n",
       "      <td>61.63</td>\n",
       "      <td>38.37</td>\n",
       "    </tr>\n",
       "    <tr>\n",
       "      <th>50-60 anos</th>\n",
       "      <td>25</td>\n",
       "      <td>17</td>\n",
       "      <td>42</td>\n",
       "      <td>59.52</td>\n",
       "      <td>40.48</td>\n",
       "    </tr>\n",
       "    <tr>\n",
       "      <th>60-70 anos</th>\n",
       "      <td>13</td>\n",
       "      <td>4</td>\n",
       "      <td>17</td>\n",
       "      <td>76.47</td>\n",
       "      <td>23.53</td>\n",
       "    </tr>\n",
       "    <tr>\n",
       "      <th>70-80 anos</th>\n",
       "      <td>4</td>\n",
       "      <td>1</td>\n",
       "      <td>5</td>\n",
       "      <td>80.00</td>\n",
       "      <td>20.00</td>\n",
       "    </tr>\n",
       "  </tbody>\n",
       "</table>\n",
       "</div>"
      ],
      "text/plain": [
       "survived        0   1  total  0/total (%)  1/total (%)\n",
       "faixa_etaria                                          \n",
       "0-10 anos      26  38     64        40.62        59.38\n",
       "10-20 anos     71  44    115        61.74        38.26\n",
       "20-30 anos    146  84    230        63.48        36.52\n",
       "30-40 anos     86  69    155        55.48        44.52\n",
       "40-50 anos     53  33     86        61.63        38.37\n",
       "50-60 anos     25  17     42        59.52        40.48\n",
       "60-70 anos     13   4     17        76.47        23.53\n",
       "70-80 anos      4   1      5        80.00        20.00"
      ]
     },
     "execution_count": 23,
     "metadata": {},
     "output_type": "execute_result"
    }
   ],
   "source": [
    "# Agrupando o DataFrame com base nas colunas survived e faixa_etaria\n",
    "grouped_df1 = df_pergunta1_estimado.groupby(['faixa_etaria', 'survived']).size().unstack(fill_value=0)\n",
    "\n",
    "# Adicionando nova coluna ao DataFrame agrupado que contém o total de pessoas de cada faixa etária\n",
    "grouped_df1['total'] = grouped_df1[0] + grouped_df1[1]\n",
    "\n",
    "# Adicionando nova coluna com valores proporcionais\n",
    "grouped_df1['0/total (%)'] = ((grouped_df1[0] / grouped_df1['total'])*100).round(2)\n",
    "grouped_df1['1/total (%)'] = ((grouped_df1[1] / grouped_df1['total'])*100).round(2)\n",
    "grouped_df1"
   ]
  },
  {
   "cell_type": "markdown",
   "metadata": {},
   "source": [
    "Como se vê, a faixa etária com mais mortes em termos proporcionais foi aquela de pessoas entre 70 e 80 anos. Já a faixa etária com menos mortes em termos proporcionais foi aquela de pessoas entre 0 e 10 anos.  \n",
    "Podemos apresentar todas as conclusões em um gráfico com o número absoluto de pessoas que morreram e sobreviveram em cada faixa etária, além das proporções desse número perante o número total de passageiros de cada faixa etária;"
   ]
  },
  {
   "cell_type": "code",
   "execution_count": 101,
   "metadata": {
    "scrolled": false
   },
   "outputs": [
    {
     "data": {
      "image/png": "[encoded data removed]",
      "text/plain": [
       "<matplotlib.figure.Figure at 0x1e5ca067240>"
      ]
     },
     "metadata": {},
     "output_type": "display_data"
    }
   ],
   "source": [
    "# Dados dos gráficos\n",
    "fig, ax1 = mpl.pyplot.subplots(figsize=(15, 10))\n",
    "eixo_x1 = np.arange(len(grouped_df1))\n",
    "eixo_y_mortes = grouped_df1[0].values\n",
    "eixo_y_sobreviventes = grouped_df1[1].values\n",
    "eixo_y_proporcao_mortes = grouped_df1['0/total (%)'].values\n",
    "\n",
    "# Estilo dos gráficos\n",
    "sns.set(style='ticks')\n",
    "mpl.pyplot.ylabel('Quantidade de mortes', fontsize=18)\n",
    "mpl.pyplot.title('Mortes por faixa etária', fontsize=25)\n",
    "ax1.tick_params(labelsize=18)\n",
    "\n",
    "# Chamando os gráficos de barras\n",
    "grafico2= ax1.bar(eixo_x1, eixo_y_mortes, 0.7, color='firebrick', tick_label=grouped_df1.index.values.tolist(), label='Quantidade de mortes');\n",
    "grafico1 = ax1.bar(eixo_x1, eixo_y_sobreviventes, 0.7, color='darkgray', bottom=eixo_y_mortes, label='Quantidade de sobreviventes')\n",
    "mpl.pyplot.legend(prop={'size': 18}, loc = 2);\n",
    "\n",
    "# Adicionando as alturas das barras acima delas\n",
    "for r1,r2 in zip(grafico2, grafico1):\n",
    "    h1 = r1.get_height()\n",
    "    h2 = r2.get_height()\n",
    "    mpl.pyplot.text(r1.get_x()+r1.get_width()/2., h1+h2, '%s'% (h1+h2), ha = 'center', va='bottom', size='large')\n",
    "        \n",
    "# Gráfico de linha\n",
    "ax2 = ax1.twinx()\n",
    "ax2.plot(eixo_x1, eixo_y_proporcao_mortes, 'k-', label='Percentual de mortes')\n",
    "ax2.set_ylim(0, 100)\n",
    "ax2.set_ylabel('Percentual (%)')\n",
    "ax2.tick_params(labelsize=18)\n",
    "ax2.yaxis.label.set_size(18)\n",
    "mpl.pyplot.legend(prop={'size': 18}, loc = 1);"
   ]
  },
  {
   "cell_type": "markdown",
   "metadata": {},
   "source": [
    "O gráfico mostra que, no caso dos extremos (pessoas até 10 anos e maiores de 50 anos), quanto mais velho era o passageiro, mais provável foi a sua morte. Isso pode indicar uma veracidade da ordem tradicional de \"crianças e mulheres primeiro\" em naufrágios.  \n",
    "No entanto, entre os 10 e os 50 anos, as proporções de morte em cada faixa etária são muito próximas. Houve mais mortes, inclusive, de pessoas entre 20 e 30 anso do que de pessoas entre 30 e 40 anos, o que indica que, fora crianças e idosos, não houve uma preferência na preservação da vida dos mais jovens.\n",
    "\n",
    "### Etapa 4: Tomada de conclusões <a name=\"2.3\"></a>\n",
    "A partir dos dados acima, conclui-se que:\n",
    "- A faixa etária com maior número de mortes em valores absolutos foi aquela de 20 a 30 anos, com 146 mortes;\n",
    "- A faixa etária com maior número de mortes em valores relativos (ou seja, com controle pelo número de pessoas dessa faixa etária que estavam no navio) foi aquela de 70 a 80 anos, com morte de 80% dos passageiros;\n",
    "- A faixa etária com menor número de mortes em valores absolutos foi também aquela de 70 a 80 anos, com 4 mortes;\n",
    "- A faixa etária com menor número de mortes em valores relativos foi aquela de 0 a 10 anos, com morte de 40,62% dos passageiros.\n",
    "\n",
    "A resposta a esta pergunta pode apresentar valores ligeiramente diferentes das respostas às perguntas seguintes, devido à não contagem de passageiros cuja idade não foi identificada (177 passageiros do total de 891).\n",
    "\n",
    "## Pergunta 2: Qual foi o sexo mais presente no Titanic? <a name=\"3\"></a>\n",
    "### Etapa 2: Limpeza dos dados <a name=\"3.1\"></a>\n",
    "Os dados necessários são:\n",
    "- Número de passageiros de cada sexo, representado pela coluna `sex`.\n",
    "\n",
    "Para a pergunta 1, já foi verificado se há linhas duplicadas no DataFrame (não há) e em que colunas há valores vazios (não há valores vazios em `sex`). Precisamos apenas conferir os tipos de dados da coluna `sex`."
   ]
  },
  {
   "cell_type": "code",
   "execution_count": 25,
   "metadata": {},
   "outputs": [
    {
     "data": {
      "text/plain": [
       "array(['male', 'female'], dtype=object)"
      ]
     },
     "execution_count": 25,
     "metadata": {},
     "output_type": "execute_result"
    }
   ],
   "source": [
    "# Verificando o tipo de dados da coluna 'sex'\n",
    "df.sex.unique()"
   ]
  },
  {
   "cell_type": "markdown",
   "metadata": {},
   "source": [
    "Os tipos de dados são esperados: strings que indicam o sexo do passageiro. Podemos apenas traduzir os sexos para ser mais fácil criar gráficos em português:"
   ]
  },
  {
   "cell_type": "code",
   "execution_count": 26,
   "metadata": {
    "scrolled": false
   },
   "outputs": [
    {
     "data": {
      "text/plain": [
       "array(['masculino', 'feminino'], dtype=object)"
      ]
     },
     "execution_count": 26,
     "metadata": {},
     "output_type": "execute_result"
    }
   ],
   "source": [
    "# Traduzindo os valores\n",
    "df['sex'] = df['sex'].apply(lambda x: 'masculino' if x == 'male' else 'feminino')\n",
    "# Verificando\n",
    "df.sex.unique()"
   ]
  },
  {
   "cell_type": "markdown",
   "metadata": {},
   "source": [
    "Cada um dos passageiros tem um sexo assinalado. Isso já nos permite visualizar os dados facilmente.\n",
    "\n",
    "### Etapa 3: Análise dos dados em si para resposta à Pergunta 2 <a name=\"3.2\"></a>\n",
    "Criando um DataFrame com os dados (quantidade de passageiros por sexo):"
   ]
  },
  {
   "cell_type": "code",
   "execution_count": 27,
   "metadata": {},
   "outputs": [
    {
     "data": {
      "text/html": [
       "<div>\n",
       "<style scoped>\n",
       "    .dataframe tbody tr th:only-of-type {\n",
       "        vertical-align: middle;\n",
       "    }\n",
       "\n",
       "    .dataframe tbody tr th {\n",
       "        vertical-align: top;\n",
       "    }\n",
       "\n",
       "    .dataframe thead th {\n",
       "        text-align: right;\n",
       "    }\n",
       "</style>\n",
       "<table border=\"1\" class=\"dataframe\">\n",
       "  <thead>\n",
       "    <tr style=\"text-align: right;\">\n",
       "      <th></th>\n",
       "      <th>sex</th>\n",
       "    </tr>\n",
       "  </thead>\n",
       "  <tbody>\n",
       "    <tr>\n",
       "      <th>masculino</th>\n",
       "      <td>577</td>\n",
       "    </tr>\n",
       "    <tr>\n",
       "      <th>feminino</th>\n",
       "      <td>314</td>\n",
       "    </tr>\n",
       "  </tbody>\n",
       "</table>\n",
       "</div>"
      ],
      "text/plain": [
       "           sex\n",
       "masculino  577\n",
       "feminino   314"
      ]
     },
     "execution_count": 27,
     "metadata": {},
     "output_type": "execute_result"
    }
   ],
   "source": [
    "sex_data = pd.DataFrame(df.sex.value_counts())\n",
    "sex_data"
   ]
  },
  {
   "cell_type": "markdown",
   "metadata": {},
   "source": [
    "Esse DataFrame indica quantos passageiros havia no Titanic do sexo masculino e do sexo feminino. Seria útil também saber a proporção de cada sexo perante o total:"
   ]
  },
  {
   "cell_type": "code",
   "execution_count": 49,
   "metadata": {},
   "outputs": [
    {
     "data": {
      "text/html": [
       "<div>\n",
       "<style scoped>\n",
       "    .dataframe tbody tr th:only-of-type {\n",
       "        vertical-align: middle;\n",
       "    }\n",
       "\n",
       "    .dataframe tbody tr th {\n",
       "        vertical-align: top;\n",
       "    }\n",
       "\n",
       "    .dataframe thead th {\n",
       "        text-align: right;\n",
       "    }\n",
       "</style>\n",
       "<table border=\"1\" class=\"dataframe\">\n",
       "  <thead>\n",
       "    <tr style=\"text-align: right;\">\n",
       "      <th></th>\n",
       "      <th>sex</th>\n",
       "      <th>sex_proportion (%)</th>\n",
       "    </tr>\n",
       "  </thead>\n",
       "  <tbody>\n",
       "    <tr>\n",
       "      <th>masculino</th>\n",
       "      <td>577</td>\n",
       "      <td>64.76</td>\n",
       "    </tr>\n",
       "    <tr>\n",
       "      <th>feminino</th>\n",
       "      <td>314</td>\n",
       "      <td>35.24</td>\n",
       "    </tr>\n",
       "  </tbody>\n",
       "</table>\n",
       "</div>"
      ],
      "text/plain": [
       "           sex  sex_proportion (%)\n",
       "masculino  577               64.76\n",
       "feminino   314               35.24"
      ]
     },
     "execution_count": 49,
     "metadata": {},
     "output_type": "execute_result"
    }
   ],
   "source": [
    "# Adicionando valores proporcionais\n",
    "sex_data['sex_proportion (%)'] = ((sex_data/sex_data.sum())*100).round(2)\n",
    "sex_data"
   ]
  },
  {
   "cell_type": "markdown",
   "metadata": {},
   "source": [
    "Como se vê, o Titanic tinha mais passageiros do sexo masculino do que do sexo feminino. Quanto a mais?"
   ]
  },
  {
   "cell_type": "code",
   "execution_count": 59,
   "metadata": {},
   "outputs": [
    {
     "name": "stdout",
     "output_type": "stream",
     "text": [
      "No Titanic, o nº de passageiros do sexo masculino era 1.84 vezes o número de passageiros do sexo feminino\n"
     ]
    }
   ],
   "source": [
    "print('No Titanic, o nº de passageiros do sexo masculino era {} vezes o número de passageiros do sexo feminino'.format(\n",
    "    (sex_data['sex_proportion (%)'].loc['masculino'] / sex_data['sex_proportion (%)'].loc['feminino']).round(2)))"
   ]
  },
  {
   "cell_type": "markdown",
   "metadata": {},
   "source": [
    "Para representar uma resposta à pergunta 2, pordemos criar um gráfico que exiba os números de passageiros de cada sexo (\"*male*\" ou \"*female*\"), além das proporções respectivas:"
   ]
  },
  {
   "cell_type": "code",
   "execution_count": 116,
   "metadata": {
    "scrolled": false
   },
   "outputs": [
    {
     "data": {
      "image/png": "[encoded data removed]",
      "text/plain": [
       "<matplotlib.figure.Figure at 0x1e5cbe8dd30>"
      ]
     },
     "metadata": {},
     "output_type": "display_data"
    }
   ],
   "source": [
    "# Dados do gráfico\n",
    "fig, ax3 = mpl.pyplot.subplots(figsize=(10, 10))\n",
    "eixo_x2 = np.arange(len(sex_data['sex'].value_counts()))\n",
    "eixo_y2 = sex_data['sex'].values\n",
    "eixo_y_proporcao_sexo = sex_data['sex_proportion (%)'].values\n",
    "\n",
    "# Estilo dos gráficos\n",
    "sns.set(style='ticks')\n",
    "mpl.pyplot.ylabel('Quantidade de passageiros', fontsize=18)\n",
    "mpl.pyplot.title('Passageiros de cada sexo', fontsize=25)\n",
    "ax3.tick_params(labelsize=18)\n",
    "        \n",
    "# Chamando o gráfico de barras\n",
    "grafico3 = ax3.bar(eixo_x2, eixo_y2, 0.7, color='darkblue', tick_label=sex_data.index.values.tolist(), label='Sexo');\n",
    "mpl.pyplot.legend(prop={'size': 18}, loc = 0);\n",
    "mpl.pyplot.margins(y=0.1)\n",
    "\n",
    "# Adicionando as alturas das barras acima delas\n",
    "for i in grafico3:\n",
    "    height = i.get_height()\n",
    "    mpl.pyplot.text(i.get_x()+i.get_width()/2., height, '%s'% (height), ha = 'center', va='bottom', size='large')\n",
    "\n",
    "# Gráfico de linha\n",
    "ax4 = ax3.twinx()\n",
    "ax4.plot(eixo_x2, eixo_y_proporcao_sexo, 'r-', label='Percentual perante o total')\n",
    "ax4.set_ylim(0, 100)\n",
    "ax4.set_ylabel('Percentual (%)')\n",
    "ax4.tick_params(labelsize=18)\n",
    "ax4.yaxis.label.set_size(18)\n",
    "mpl.pyplot.legend(prop={'size': 18}, loc = 9);"
   ]
  },
  {
   "cell_type": "markdown",
   "metadata": {},
   "source": [
    "É fácil ver, nesse gráfico, que o Titanic tinha quase o dobro de passageiros do sexo masculino em comparação com passageiros do sexo feminino: a barra \"masculino\" tem quase o dobro de altura da barra \"feminino\".  \n",
    "Podemos, ainda, exibir as mesmas informações em um gráfico de pizza, que exibe as proporções de uma maneira diferente:"
   ]
  },
  {
   "cell_type": "code",
   "execution_count": 47,
   "metadata": {},
   "outputs": [
    {
     "data": {
      "image/png": "[encoded data removed]",
      "text/plain": [
       "<matplotlib.figure.Figure at 0x1e5ca88cf28>"
      ]
     },
     "metadata": {},
     "output_type": "display_data"
    }
   ],
   "source": [
    "fig, ax9 = mpl.pyplot.subplots(figsize=(5, 5))\n",
    "\n",
    "# Configurando variável necessária para o gráfico (etiquetas da pizza)\n",
    "def make_autopct(values):\n",
    "    \"\"\"Cria função para criação de legendas com valores absolutos e proporcionais para um gráfico de pizza.\n",
    "    Argumento:\n",
    "        values: valores numéricos que estão sendo usados para o gráfico de pizza.\n",
    "    Retorna: função a ser usada para o argumento \"autopct\" da função matplotlib.pyplot.pie(). O argumento resultará em uma string no modelo \"{valor percentual}% (valor absoluto)\". \n",
    "    \"\"\"\n",
    "    def my_autopct(pct):\n",
    "        total = sum(values)\n",
    "        val = int(round(pct*total/100.0))\n",
    "        return '{p:.2f}%  ({v:d})'.format(p=pct,v=val)\n",
    "    return my_autopct\n",
    "\n",
    "# Chamando o gráfico\n",
    "patches, texts, autotexts = mpl.pyplot.pie(eixo_y2, labels=sex_data.index.values.tolist(),\n",
    "    autopct=make_autopct(eixo_y2),\n",
    "    shadow=False, startangle=90);\n",
    "\n",
    "# Estilo do gráfico\n",
    "mpl.pyplot.title('Passageiros de cada sexo', fontsize=25) # Título do gráfico\n",
    "mpl.style.use('fivethirtyeight') # O Searborn não suporta gráficos de pizza, então usamos este modelo padrão do Matplotlib.\n",
    "texts = [ _.set_fontsize(15) for _ in texts ] # Aumenta as etiquetas da pizza"
   ]
  },
  {
   "cell_type": "markdown",
   "metadata": {},
   "source": [
    "### Etapa 4: Tomada de conclusões <a name=\"3.3\"></a>\n",
    "A partir dos dados acima, conclui-se que:\n",
    "- O sexo mais presente em valores absolutos foi o sexo masculino, com 577 passageiros (64,76% dos passageiros).\n",
    "\n",
    "## Pergunta 3: Qual foi a média de preço do ticket? <a name=\"4\"></a>\n",
    "### Etapa 2: Limpeza dos dados <a name=\"4.1\"></a>\n",
    "Os dados necessários são:\n",
    "- Médias dos preços dos tickets, dados na coluna `fare`.\n",
    "\n",
    "Para a pergunta 1, já foi verificado se há linhas duplicadas no DataFrame (não há) e onde há valores vazios (não há valores vazios em `fare`). Precisamos apenas conferir os valores da coluna `fare`."
   ]
  },
  {
   "cell_type": "code",
   "execution_count": 31,
   "metadata": {},
   "outputs": [
    {
     "data": {
      "text/plain": [
       "count    891.000000\n",
       "mean      32.204208\n",
       "std       49.693429\n",
       "min        0.000000\n",
       "25%        7.910400\n",
       "50%       14.454200\n",
       "75%       31.000000\n",
       "max      512.329200\n",
       "Name: fare, dtype: float64"
      ]
     },
     "execution_count": 31,
     "metadata": {},
     "output_type": "execute_result"
    }
   ],
   "source": [
    "# Verificando estatísticas sobre os preços dos tickets\n",
    "df.fare.describe()"
   ]
  },
  {
   "cell_type": "markdown",
   "metadata": {},
   "source": [
    "Os tipos de dados permitem sua manipulação: os dados são float, um tipo numérico, como preços devem ser. Mas as estatísticas descritivas dos preços chamam a atenção:\n",
    "- Os dados contêm registro de tickets vendidos de graça, o que pode ser um erro;\n",
    "- O valor máximo também tem um preço muito, muito superior ao valor médio;\n",
    "- Existe variedade muito grande de preços entre os diferentes quartis.\n",
    "\n",
    "Vamos conferir visualmente os valores exatos dos tickets:"
   ]
  },
  {
   "cell_type": "code",
   "execution_count": 32,
   "metadata": {},
   "outputs": [
    {
     "data": {
      "text/plain": [
       "array([  0.    ,   4.0125,   5.    ,   6.2375,   6.4375,   6.45  ,\n",
       "       227.525 , 247.5208, 262.375 , 263.    , 512.3292])"
      ]
     },
     "execution_count": 32,
     "metadata": {},
     "output_type": "execute_result"
    }
   ],
   "source": [
    "ordered_fares = sorted(df.fare.unique().tolist()) # Ordena uma lista com os valores dos tickets\n",
    "np.r_[ordered_fares[:6], ordered_fares[-5:]] # Exibe os 5 primeiros e os 5 últimos valores da lista"
   ]
  },
  {
   "cell_type": "markdown",
   "metadata": {},
   "source": [
    "Realmente existem preços muito diferentes: há passagens gratuitas, a 5, a 227, a 512... Também é estranha a existência de várias casas decimais.  \n",
    "De acordo com o fórum de discussão do link da documentação, conseguimos algumas informações sobre os tickets:\n",
    "- [Gareth Jones](https://www.kaggle.com/c/titanic/discussion/33087): é possível que os preços variem em razão do quão cedo ou tarde o ticket foi comprado em relação à data da viagem;\n",
    "- [Nick Yee](https://www.kaggle.com/c/titanic/discussion/33087#183182): os preços não são por pessoa: os tickets eram vendidos para uma família como um todo, de modo que os valores em `fare` são o preço dos tickets da família dividido pelo número de pessoas da família; há preços reduzidos diferentes para menores de 12 anos e de 1 ano; alguns tickets da terceira classe tinham passagem de trem incluída no preço; alguns tickets (principalmente da terceira classe) mudavam de preço a depender do país de compra;\n",
    "- [Daniel Burrueco](https://www.kaggle.com/c/titanic/discussion/37630#210625): As casas decimais decorrem da adoção de um sistema não centesimal pela Grã-Bretanha à época.\n",
    "\n",
    "As diferenças nos preços são um problema. Uma média de preços de todos passageiros do navio tem sua utilidade reduzida, considerando tantas coisas que influenciam no preço do ticket que nos são desconhecidas (data da compra; detalhes sobre a precificação para crianças e adolescentes, que [é relatada de maneiras diferentes](https://www.encyclopedia-titanica.org/community/threads/children-on-the-titanic.20096/#post-254451); preços das passagens de trens dos tickets de terceira classe; informações sobre o país de compra de cada ticket). Apenas a questão da venda dos tickets para uma família não é um problema, afinal, realmente estamos buscando o preço médio por pessoa (informação que temos), e não por família.  \n",
    "Por outro lado, as casas decimais não são um problema: são apenas uma atualização de valores.\n",
    "\n",
    "Em conclusão: como não conseguimos controlar as diferentes variáveis na composição do preço do ticket, devemos deixar claro, na resposta à pergunta, que a média do preço é afetada por variáveis desconhecidas, tais como detalhes sobre a precificação do ticket para crianças/adolescentes, a inclusão de passagem de trem no preço do ticket e a origem do passageiro.  \n",
    "Resta saber como lidar com as passagens gratuitas. A diferença de preços entre as passagens não é um erro, mas, talvez, as passagens gratuitas sejam. As passagens gratuitas foram dos seguintes passageiros:"
   ]
  },
  {
   "cell_type": "code",
   "execution_count": 33,
   "metadata": {},
   "outputs": [
    {
     "data": {
      "text/html": [
       "<div>\n",
       "<style scoped>\n",
       "    .dataframe tbody tr th:only-of-type {\n",
       "        vertical-align: middle;\n",
       "    }\n",
       "\n",
       "    .dataframe tbody tr th {\n",
       "        vertical-align: top;\n",
       "    }\n",
       "\n",
       "    .dataframe thead th {\n",
       "        text-align: right;\n",
       "    }\n",
       "</style>\n",
       "<table border=\"1\" class=\"dataframe\">\n",
       "  <thead>\n",
       "    <tr style=\"text-align: right;\">\n",
       "      <th></th>\n",
       "      <th>passengerid</th>\n",
       "      <th>survived</th>\n",
       "      <th>pclass</th>\n",
       "      <th>name</th>\n",
       "      <th>sex</th>\n",
       "      <th>age</th>\n",
       "      <th>sibsp</th>\n",
       "      <th>parch</th>\n",
       "      <th>ticket</th>\n",
       "      <th>fare</th>\n",
       "      <th>cabin</th>\n",
       "      <th>embarked</th>\n",
       "    </tr>\n",
       "  </thead>\n",
       "  <tbody>\n",
       "    <tr>\n",
       "      <th>179</th>\n",
       "      <td>180</td>\n",
       "      <td>0</td>\n",
       "      <td>3</td>\n",
       "      <td>Leonard, Mr. Lionel</td>\n",
       "      <td>masculino</td>\n",
       "      <td>36.0</td>\n",
       "      <td>0</td>\n",
       "      <td>0</td>\n",
       "      <td>LINE</td>\n",
       "      <td>0.0</td>\n",
       "      <td>NaN</td>\n",
       "      <td>S</td>\n",
       "    </tr>\n",
       "    <tr>\n",
       "      <th>263</th>\n",
       "      <td>264</td>\n",
       "      <td>0</td>\n",
       "      <td>1</td>\n",
       "      <td>Harrison, Mr. William</td>\n",
       "      <td>masculino</td>\n",
       "      <td>40.0</td>\n",
       "      <td>0</td>\n",
       "      <td>0</td>\n",
       "      <td>112059</td>\n",
       "      <td>0.0</td>\n",
       "      <td>B94</td>\n",
       "      <td>S</td>\n",
       "    </tr>\n",
       "    <tr>\n",
       "      <th>271</th>\n",
       "      <td>272</td>\n",
       "      <td>1</td>\n",
       "      <td>3</td>\n",
       "      <td>Tornquist, Mr. William Henry</td>\n",
       "      <td>masculino</td>\n",
       "      <td>25.0</td>\n",
       "      <td>0</td>\n",
       "      <td>0</td>\n",
       "      <td>LINE</td>\n",
       "      <td>0.0</td>\n",
       "      <td>NaN</td>\n",
       "      <td>S</td>\n",
       "    </tr>\n",
       "    <tr>\n",
       "      <th>277</th>\n",
       "      <td>278</td>\n",
       "      <td>0</td>\n",
       "      <td>2</td>\n",
       "      <td>Parkes, Mr. Francis \"Frank\"</td>\n",
       "      <td>masculino</td>\n",
       "      <td>NaN</td>\n",
       "      <td>0</td>\n",
       "      <td>0</td>\n",
       "      <td>239853</td>\n",
       "      <td>0.0</td>\n",
       "      <td>NaN</td>\n",
       "      <td>S</td>\n",
       "    </tr>\n",
       "    <tr>\n",
       "      <th>302</th>\n",
       "      <td>303</td>\n",
       "      <td>0</td>\n",
       "      <td>3</td>\n",
       "      <td>Johnson, Mr. William Cahoone Jr</td>\n",
       "      <td>masculino</td>\n",
       "      <td>19.0</td>\n",
       "      <td>0</td>\n",
       "      <td>0</td>\n",
       "      <td>LINE</td>\n",
       "      <td>0.0</td>\n",
       "      <td>NaN</td>\n",
       "      <td>S</td>\n",
       "    </tr>\n",
       "    <tr>\n",
       "      <th>413</th>\n",
       "      <td>414</td>\n",
       "      <td>0</td>\n",
       "      <td>2</td>\n",
       "      <td>Cunningham, Mr. Alfred Fleming</td>\n",
       "      <td>masculino</td>\n",
       "      <td>NaN</td>\n",
       "      <td>0</td>\n",
       "      <td>0</td>\n",
       "      <td>239853</td>\n",
       "      <td>0.0</td>\n",
       "      <td>NaN</td>\n",
       "      <td>S</td>\n",
       "    </tr>\n",
       "    <tr>\n",
       "      <th>466</th>\n",
       "      <td>467</td>\n",
       "      <td>0</td>\n",
       "      <td>2</td>\n",
       "      <td>Campbell, Mr. William</td>\n",
       "      <td>masculino</td>\n",
       "      <td>NaN</td>\n",
       "      <td>0</td>\n",
       "      <td>0</td>\n",
       "      <td>239853</td>\n",
       "      <td>0.0</td>\n",
       "      <td>NaN</td>\n",
       "      <td>S</td>\n",
       "    </tr>\n",
       "    <tr>\n",
       "      <th>481</th>\n",
       "      <td>482</td>\n",
       "      <td>0</td>\n",
       "      <td>2</td>\n",
       "      <td>Frost, Mr. Anthony Wood \"Archie\"</td>\n",
       "      <td>masculino</td>\n",
       "      <td>NaN</td>\n",
       "      <td>0</td>\n",
       "      <td>0</td>\n",
       "      <td>239854</td>\n",
       "      <td>0.0</td>\n",
       "      <td>NaN</td>\n",
       "      <td>S</td>\n",
       "    </tr>\n",
       "    <tr>\n",
       "      <th>597</th>\n",
       "      <td>598</td>\n",
       "      <td>0</td>\n",
       "      <td>3</td>\n",
       "      <td>Johnson, Mr. Alfred</td>\n",
       "      <td>masculino</td>\n",
       "      <td>49.0</td>\n",
       "      <td>0</td>\n",
       "      <td>0</td>\n",
       "      <td>LINE</td>\n",
       "      <td>0.0</td>\n",
       "      <td>NaN</td>\n",
       "      <td>S</td>\n",
       "    </tr>\n",
       "    <tr>\n",
       "      <th>633</th>\n",
       "      <td>634</td>\n",
       "      <td>0</td>\n",
       "      <td>1</td>\n",
       "      <td>Parr, Mr. William Henry Marsh</td>\n",
       "      <td>masculino</td>\n",
       "      <td>NaN</td>\n",
       "      <td>0</td>\n",
       "      <td>0</td>\n",
       "      <td>112052</td>\n",
       "      <td>0.0</td>\n",
       "      <td>NaN</td>\n",
       "      <td>S</td>\n",
       "    </tr>\n",
       "    <tr>\n",
       "      <th>674</th>\n",
       "      <td>675</td>\n",
       "      <td>0</td>\n",
       "      <td>2</td>\n",
       "      <td>Watson, Mr. Ennis Hastings</td>\n",
       "      <td>masculino</td>\n",
       "      <td>NaN</td>\n",
       "      <td>0</td>\n",
       "      <td>0</td>\n",
       "      <td>239856</td>\n",
       "      <td>0.0</td>\n",
       "      <td>NaN</td>\n",
       "      <td>S</td>\n",
       "    </tr>\n",
       "    <tr>\n",
       "      <th>732</th>\n",
       "      <td>733</td>\n",
       "      <td>0</td>\n",
       "      <td>2</td>\n",
       "      <td>Knight, Mr. Robert J</td>\n",
       "      <td>masculino</td>\n",
       "      <td>NaN</td>\n",
       "      <td>0</td>\n",
       "      <td>0</td>\n",
       "      <td>239855</td>\n",
       "      <td>0.0</td>\n",
       "      <td>NaN</td>\n",
       "      <td>S</td>\n",
       "    </tr>\n",
       "    <tr>\n",
       "      <th>806</th>\n",
       "      <td>807</td>\n",
       "      <td>0</td>\n",
       "      <td>1</td>\n",
       "      <td>Andrews, Mr. Thomas Jr</td>\n",
       "      <td>masculino</td>\n",
       "      <td>39.0</td>\n",
       "      <td>0</td>\n",
       "      <td>0</td>\n",
       "      <td>112050</td>\n",
       "      <td>0.0</td>\n",
       "      <td>A36</td>\n",
       "      <td>S</td>\n",
       "    </tr>\n",
       "    <tr>\n",
       "      <th>815</th>\n",
       "      <td>816</td>\n",
       "      <td>0</td>\n",
       "      <td>1</td>\n",
       "      <td>Fry, Mr. Richard</td>\n",
       "      <td>masculino</td>\n",
       "      <td>NaN</td>\n",
       "      <td>0</td>\n",
       "      <td>0</td>\n",
       "      <td>112058</td>\n",
       "      <td>0.0</td>\n",
       "      <td>B102</td>\n",
       "      <td>S</td>\n",
       "    </tr>\n",
       "    <tr>\n",
       "      <th>822</th>\n",
       "      <td>823</td>\n",
       "      <td>0</td>\n",
       "      <td>1</td>\n",
       "      <td>Reuchlin, Jonkheer. John George</td>\n",
       "      <td>masculino</td>\n",
       "      <td>38.0</td>\n",
       "      <td>0</td>\n",
       "      <td>0</td>\n",
       "      <td>19972</td>\n",
       "      <td>0.0</td>\n",
       "      <td>NaN</td>\n",
       "      <td>S</td>\n",
       "    </tr>\n",
       "  </tbody>\n",
       "</table>\n",
       "</div>"
      ],
      "text/plain": [
       "     passengerid  survived  pclass                              name  \\\n",
       "179          180         0       3               Leonard, Mr. Lionel   \n",
       "263          264         0       1             Harrison, Mr. William   \n",
       "271          272         1       3      Tornquist, Mr. William Henry   \n",
       "277          278         0       2       Parkes, Mr. Francis \"Frank\"   \n",
       "302          303         0       3   Johnson, Mr. William Cahoone Jr   \n",
       "413          414         0       2    Cunningham, Mr. Alfred Fleming   \n",
       "466          467         0       2             Campbell, Mr. William   \n",
       "481          482         0       2  Frost, Mr. Anthony Wood \"Archie\"   \n",
       "597          598         0       3               Johnson, Mr. Alfred   \n",
       "633          634         0       1     Parr, Mr. William Henry Marsh   \n",
       "674          675         0       2        Watson, Mr. Ennis Hastings   \n",
       "732          733         0       2              Knight, Mr. Robert J   \n",
       "806          807         0       1            Andrews, Mr. Thomas Jr   \n",
       "815          816         0       1                  Fry, Mr. Richard   \n",
       "822          823         0       1   Reuchlin, Jonkheer. John George   \n",
       "\n",
       "           sex   age  sibsp  parch  ticket  fare cabin embarked  \n",
       "179  masculino  36.0      0      0    LINE   0.0   NaN        S  \n",
       "263  masculino  40.0      0      0  112059   0.0   B94        S  \n",
       "271  masculino  25.0      0      0    LINE   0.0   NaN        S  \n",
       "277  masculino   NaN      0      0  239853   0.0   NaN        S  \n",
       "302  masculino  19.0      0      0    LINE   0.0   NaN        S  \n",
       "413  masculino   NaN      0      0  239853   0.0   NaN        S  \n",
       "466  masculino   NaN      0      0  239853   0.0   NaN        S  \n",
       "481  masculino   NaN      0      0  239854   0.0   NaN        S  \n",
       "597  masculino  49.0      0      0    LINE   0.0   NaN        S  \n",
       "633  masculino   NaN      0      0  112052   0.0   NaN        S  \n",
       "674  masculino   NaN      0      0  239856   0.0   NaN        S  \n",
       "732  masculino   NaN      0      0  239855   0.0   NaN        S  \n",
       "806  masculino  39.0      0      0  112050   0.0   A36        S  \n",
       "815  masculino   NaN      0      0  112058   0.0  B102        S  \n",
       "822  masculino  38.0      0      0   19972   0.0   NaN        S  "
      ]
     },
     "execution_count": 33,
     "metadata": {},
     "output_type": "execute_result"
    }
   ],
   "source": [
    "df.query('fare == 0')"
   ]
  },
  {
   "cell_type": "markdown",
   "metadata": {},
   "source": [
    "Há relatos sobre alguns dos passageiros indicados nesse DataFrame:\n",
    "- William Harrison era secretário pessoal de chefe da empresa responsável pelo Titanic [(link)](https://www.encyclopedia-titanica.org/titanic-victim/william-harrison.html);\n",
    "- Jonkheer Johan George Reuchlin era também integrante do grupo de empresas responsável pelo navio [(link)](https://www.encyclopedia-titanica.org/titanic-victim/johan-george-reuchlin.html);\n",
    "- Outros sete dos passageiros listados foram enviados pela empresa que construiu o navio para acompanhá-lo em sua viagem inaugural [(link)](https://www.encyclopedia-titanica.org/titanic-guarantee-group/).\n",
    "\n",
    "Como se vê, há razões para a existência de tickets gratuitos, de modo que pode não ser razoável a eliminação desses dados.\n",
    "\n",
    "Já temos dados relevantes para o cálculo da média e podemos seguir para a próxima etapa da análise.\n",
    "\n",
    "### Etapa 3: Análise dos dados em si para resposta à Pergunta 2 <a name=\"4.2\"></a>"
   ]
  },
  {
   "cell_type": "code",
   "execution_count": 167,
   "metadata": {},
   "outputs": [
    {
     "data": {
      "text/plain": [
       "32.2"
      ]
     },
     "execution_count": 167,
     "metadata": {},
     "output_type": "execute_result"
    }
   ],
   "source": [
    "# Calculando a média do preço das passagens\n",
    "fare_mean = df.fare.describe()['mean']\n",
    "fare_mean.round(2)"
   ]
  },
  {
   "cell_type": "markdown",
   "metadata": {},
   "source": [
    "32,2 é a média de preço das passagens. Mas 32,2 o quê? No fórum da documentação, há [referência](https://www.kaggle.com/c/titanic/discussion/37630#210625) para o [*site* Statistical Consultants Ltd.](http://www.statisticalconsultants.co.nz/blog/titanic-fare-data.html), que diz que os preços são em libras esterlinas de 1912. Com dados de índices inflacionários da publicação[ \"Inflation: the value of the pound 1750-1998\"](http://researchbriefings.parliament.uk/ResearchBriefing/Summary/RP99-20) e da base de dados [World Economic Outlook, do FMI](https://www.imf.org/external/pubs/ft/weo/2018/01/weodata/index.aspx), a Statistical Consultants Ltd. estimou que o nível de preços gerais em 2012 seriam 82,11378 vezes os preços de 1912. Podemos também fazer essa atualização sobre a média das passagens do Titanic:"
   ]
  },
  {
   "cell_type": "code",
   "execution_count": 134,
   "metadata": {},
   "outputs": [
    {
     "name": "stdout",
     "output_type": "stream",
     "text": [
      "Em valores de 2012, a média de preço das passagens do Titanic era de £2644.41\n"
     ]
    }
   ],
   "source": [
    "a = (fare_mean*82.11378).round(2)\n",
    "print(f'Em valores de 2012, a média de preço das passagens do Titanic era de £{a}')"
   ]
  },
  {
   "cell_type": "markdown",
   "metadata": {},
   "source": [
    "Seria interessante ver como as médias de preços diferem em cada classe. Vamos fazer essa comparação."
   ]
  },
  {
   "cell_type": "code",
   "execution_count": 186,
   "metadata": {},
   "outputs": [
    {
     "name": "stdout",
     "output_type": "stream",
     "text": [
      "Em valores de 1912, as médias eram:\n",
      " pclass\n",
      "1ª Classe    84.154687\n",
      "2ª Classe    20.662183\n",
      "3ª Classe    13.675550\n",
      "Name: fare, dtype: float64\n",
      "\n",
      "Em valores de 2012, as médias eram:\n",
      " pclass\n",
      "1ª Classe    6910.259495\n",
      "2ª Classe    1696.649962\n",
      "3ª Classe    1122.951112\n",
      "Name: fare, dtype: float64\n",
      "\n",
      "A 2ª Classe custava, em média, 0.51 vezes mais que a 1ª classe!\n",
      "A 1ª Classe custava, em média, 5.15 vezes mais que a 3ª classe!\n"
     ]
    }
   ],
   "source": [
    "grouped_fare_data = df.groupby('pclass').mean()['fare']\n",
    "print('Em valores de 1912, as médias eram:\\n', grouped_fare_data)\n",
    "print('\\nEm valores de 2012, as médias eram:\\n', grouped_fare_data*82.11378)\n",
    "\n",
    "# Calculando a diferença entre a 2ª e a 3ª classe\n",
    "d = (df.groupby('pclass').mean()['fare']['2ª Classe'] - df.groupby('pclass').mean()['fare']['3ª Classe'])/df.groupby('pclass').mean()['fare']['3ª Classe']\n",
    "print(f'\\nA 2ª Classe custava, em média, {d.round(2)} vezes mais que a 1ª classe!')\n",
    "\n",
    "# Calculando a diferença entre a 3ª e a 1ª classe\n",
    "d = (df.groupby('pclass').mean()['fare']['1ª Classe'] - df.groupby('pclass').mean()['fare']['3ª Classe'])/df.groupby('pclass').mean()['fare']['3ª Classe']\n",
    "print(f'A 1ª Classe custava, em média, {d.round(2)} vezes mais que a 3ª classe!')"
   ]
  },
  {
   "cell_type": "markdown",
   "metadata": {},
   "source": [
    "Como pudemos ver, havia uma diferença relativamente pequena entre os tickets da 1ª e a 2ª Classe, mas uma diferença relativamente muito grande entre os tickets da 1ª e da 3ª classe!\n",
    "\n",
    "Por último, mesmo que não tenha sido necessária a retirada dos tickets gratuitos da nossa amostra, é possível dizer que eles são apenas uma parte pequena dos dados. Podemos calcular o impacto da inclusão deles ou não na média de preços:"
   ]
  },
  {
   "cell_type": "code",
   "execution_count": 142,
   "metadata": {},
   "outputs": [
    {
     "name": "stdout",
     "output_type": "stream",
     "text": [
      "Em valores de 1912, a diferença na média é de £0.55\n",
      "Em valores de 2012, a diferença na média é de £45.28\n"
     ]
    }
   ],
   "source": [
    "# Considerando que estamos falando de passagens gratuitas, a soma do preço das passagens é a mesma,\n",
    "# sejam as passagens gratuitas contabilizadas ou não. No cálculo da média, a única diferença é\n",
    "# a quantidade total de passagens vendidas. Podemos fazer uma função para a diferença da média com\n",
    "# passagens gratuitas e sem passagens gratuitas.\n",
    "def diferenca_media(media_com_gratuidades, quantidade_total, quantidade_de_gratuidades):\n",
    "    \"\"\"Calcula a diferença entre uma média de preços pagos se não forem contabilizadas gratuidades e a média se forem\n",
    "    contabilizadas gratuidades.\n",
    "    Argumentos:\n",
    "        media_sem_gratuidades: média de preços pagos se as gratuidades forem contabilizadas;\n",
    "        quantidade_total: quantidade total de ocorrências (pagamentos) contabilizados no cálculo da média, incluídas \n",
    "        as gratuidades.\n",
    "        quantidade_de_gratuidades: quantidade de pagamentos gratuidos existentes.\n",
    "    Retorna: float com a diferença entre as médias\n",
    "    \"\"\"\n",
    "    soma_ocorrencias = media_com_gratuidades * quantidade_total\n",
    "    media_sem_gratuidades = soma_ocorrencias / (quantidade_total-quantidade_de_gratuidades)\n",
    "    return media_sem_gratuidades - media_com_gratuidades\n",
    "\n",
    "# Verificando no nosso caso\n",
    "fare_mean_difference = diferenca_media(fare_mean, df.fare.describe()['count'], len(df.query('fare == 0')))\n",
    "print(f'Em valores de 1912, a diferença na média é de £{fare_mean_difference.round(2)}')\n",
    "print(f'Em valores de 2012, a diferença na média é de £{(fare_mean_difference*82.11378).round(2)}')"
   ]
  },
  {
   "cell_type": "markdown",
   "metadata": {},
   "source": [
    "A diferença na média parece pequena em valores de 1912, mas não muito em valores de 2012. Mas e em termos proporcionais?"
   ]
  },
  {
   "cell_type": "code",
   "execution_count": 36,
   "metadata": {},
   "outputs": [
    {
     "name": "stdout",
     "output_type": "stream",
     "text": [
      "A média sem gratuidades é 1.71% maior do que a média com gratuidades.\n"
     ]
    }
   ],
   "source": [
    "print('A média sem gratuidades é {}% maior do que a média com gratuidades.'.format(\n",
    "    ((fare_mean_difference / fare_mean)*100).round(2)))"
   ]
  },
  {
   "cell_type": "markdown",
   "metadata": {},
   "source": [
    "Podemos concluir, assim, que: há razões para os tickets gratuitos terem sido incluídos entre os dados; mesmo que os tickets gratuitos fosse retirados dos dados, o impacto proporcional disso não seria relevante.\n",
    "\n",
    "Para ilustrar uma resposta à pergunta 3, podemos fazer um diagrama de extremos e quartis que demonstre a variação dos preços dos tickets. Vale destacar que a linha laranja nos gráficos exibe a mediana, e não a média:"
   ]
  },
  {
   "cell_type": "code",
   "execution_count": 314,
   "metadata": {},
   "outputs": [
    {
     "data": {
      "image/png": "[encoded data removed]",
      "text/plain": [
       "<matplotlib.figure.Figure at 0x1e5c9f26438>"
      ]
     },
     "metadata": {},
     "output_type": "display_data"
    }
   ],
   "source": [
    "# Dados do gráfico\n",
    "fig, ax5 = mpl.pyplot.subplots(figsize=(15, 10))\n",
    "fare_data = df.fare.tolist()\n",
    "fare_data_1 = df.query(\"pclass == '1ª Classe'\")['fare'].tolist()\n",
    "fare_data_2 = df.query(\"pclass == '2ª Classe'\")['fare'].tolist()\n",
    "fare_data_3 = df.query(\"pclass == '3ª Classe'\")['fare'].tolist()\n",
    "total_fare_data = [fare_data, fare_data_3, fare_data_2, fare_data_1]\n",
    "labels = ['Agregado', '3ª Classe', '2ª Classe', '1ª Classe']\n",
    "\n",
    "# Estilo dos gráficos\n",
    "sns.reset_orig() # Precisamos desativar o Seaborn porque ele oculta os 'fliers' que indicam os valores 'outliers' no gráfico.\n",
    "mpl.pyplot.ylabel('Preço da passagem (libras de 1912 / libras de 2012)', fontsize=18)\n",
    "mpl.pyplot.xlabel('Classe', fontsize=18)\n",
    "mpl.pyplot.title('Extremos e quartis dos preços das passagens', fontsize=25)\n",
    "ax5.tick_params(labelsize=13)\n",
    "ax5.grid() # O gráfico fica melhor de ser lido se usarmos uma grade\n",
    "ax5.set_yticks([i for i in range(0, 501, 50)]) # A grade fica melhor se usarmos valores de 50 em 50\n",
    "\n",
    "# Chamando o gráfico\n",
    "ax5.boxplot(total_fare_data, widths=0.5);\n",
    "ax5.set_xticklabels(labels);\n",
    "\n",
    "# Editando as etiquetas do eixo y\n",
    "l = ax5.get_yticks().tolist();\n",
    "l = [str(i) + ' / {}'.format(np.float64(i*82.11378).round(2)) for i in l];\n",
    "ax5.set_yticklabels(l);"
   ]
  },
  {
   "cell_type": "markdown",
   "metadata": {},
   "source": [
    "Vemos, no gráfico acima, que a variação de preços de tickets de 1ª Classe foi muito maior do que a variação de tickets de 3ª Classe, embora as estatísticas da 3ª Classe exibam um número maior de valores discrepantes (*outliers*: tickets com preço maior que 1,5 vezes o intervalo interquartílico, ou seja, preço maior que 1,5 vezes a diferença entre o 3º e o 1º quartil de preços). Ademais, na 1ª Classe, observa-se uma quantidade maior de tickets de valor superior ao do terceiro quartil.  \n",
    "O gráfico também confirma nossa observação sobre a variação de preços ser muito maior da 3ª para a 1ª classe (ou mesmo da 2ª para a 1ª) do que da 3ª para a 2ª classe.\n",
    "\n",
    "Uma outra alternativa de exibição dos resultados é fazer um gráfico de violino, que demonstra tanto os extremos e quartis, quanto a distribuição de preços de tickets (isso com o uso de [*Estimativa de densidade kernel*](https://en.wikipedia.org/wiki/Kernel_density_estimation)):"
   ]
  },
  {
   "cell_type": "code",
   "execution_count": 315,
   "metadata": {
    "scrolled": false
   },
   "outputs": [
    {
     "data": {
      "image/png": "[encoded data removed]",
      "text/plain": [
       "<matplotlib.figure.Figure at 0x1e5ca9c0ac8>"
      ]
     },
     "metadata": {},
     "output_type": "display_data"
    }
   ],
   "source": [
    "fig, ax6 = mpl.pyplot.subplots(figsize=(15, 10));\n",
    "sns.violinplot(data=total_fare_data, linewidth=3, color='r', cut=0); # Gráfico violino\n",
    "mpl.pyplot.ylabel('Preço da passagem (libras de 1912)', fontsize=18) # Nome do eixo y\n",
    "mpl.pyplot.xlabel('Classe', fontsize=18) # Nome do eixo x\n",
    "ax6.set_xticklabels(labels); # Labels do eixo x\n",
    "mpl.pyplot.title('Extremos, quartis e distribuição dos preços das passagens', fontsize=25) # Título do gráfico\n",
    "ax6.grid(); # O gráfico fica melhor de ser lido se usarmos uma grade\n",
    "ax6.set_yticks([i for i in range(0, 501, 25)]); # Os dados são melhor lidos se usarmos valores de 25 em 25\n",
    "\n",
    "# Editando as etiquetas do eixo y\n",
    "l = ax6.get_yticks().tolist();\n",
    "l = [str(i) + ' / {}'.format(np.float64(i*82.11378).round(2)) for i in l];\n",
    "ax6.set_yticklabels(l);"
   ]
  },
  {
   "cell_type": "markdown",
   "metadata": {},
   "source": [
    "O gráfico demonstra uma quantidade muito grande de tickets comprados na 3ª classe, todos concentrados em uma mesma faixa de preços. A concentração de tickets da 2ª classe em uma faixa de preço é maior do que a concentração de tickets da 1ª classe em uma mesma faixa: uma quantidade semelhante de tickets da 1ª classe foi comprada por diferentes preços.  \n",
    "A largura do gráfico para a 3ª classe indica que essa foi a classe com o maior número de passageiros. Mas como se comparam a 2ª e a 1ª classe? Veremos isso de forma exata na próxima pergunta.\n",
    "\n",
    "### Etapa 4: Tomada de conclusões <a name=\"4.3\"></a>\n",
    "A partir dos dados acima, conclui-se que:\n",
    "- A média de preços geral (em todas classes) é de £32,20. Esse é o preço em 1912: em valores mais recentes, de 2012, o preço médio é de £2644,41.\n",
    "- Por classe, as médias de preços são (em valores de 1912 e de 2012, respectivamente):\n",
    " - 3ª classe £13,67 / £1122,95\n",
    " - 2ª classe £20,66 / £1696,65\n",
    " - 1ª classe £84,15 / £6910,26\n",
    "\n",
    "Essas médias de preços incluem passageiros que pagaram preços muito diferentes não só em razão da classe no navio (primeira, segunda ou terceira classe), mas também em razão de:\n",
    " - Data da compra em relação à data da viagem;\n",
    " - Precificação diferente para crianças e adolescentes;\n",
    " - Inclusão do preço de passagem de trem no ticket do Titanic;\n",
    " - Diferenciação do preço de acordo com o país de compra.\n",
    "\n",
    "## Pergunta 4: Como foi a distribuição de pessoas entre as classes do Titanic? <a name=\"5\"></a>\n",
    "### Etapa 2: Limpeza dos dados <a name=\"5.1\"></a>\n",
    "Os dados necessários são:\n",
    "- Número de passageiros em cada clase, representado pela quantidade de entradas = 1, 2 e 3 na coluna `pclass`.\n",
    "\n",
    "Para a pergunta 1, já foi verificado se há linhas duplicadas no DataFrame (não há) e se há valores vazios em `pclass` (não há). Precisamos apenas conferir os dados da coluna `pclass`. Como queremos apenas contar o número de ocorrências de cada classe dentre o total de passageiros, não precisamos que `pclass` tenha dados de certo tipo. Devemos conferir apenas se os dados estão compatíveis com a documentação: eles indicam a existência de 3 classes diferentes?"
   ]
  },
  {
   "cell_type": "code",
   "execution_count": 39,
   "metadata": {},
   "outputs": [
    {
     "data": {
      "text/plain": [
       "array([3, 1, 2], dtype=int64)"
      ]
     },
     "execution_count": 39,
     "metadata": {},
     "output_type": "execute_result"
    }
   ],
   "source": [
    "# Verificando o tipo de dados da coluna 'pclass'\n",
    "df.pclass.unique()"
   ]
  },
  {
   "cell_type": "markdown",
   "metadata": {},
   "source": [
    "Certo, nosso DataFrame contém apenas as 3 classes esperadas.  \n",
    "De acordo com a documentação, 3 = 3ª Classe, 2 = 2ª Classe e 1 = 1ª Classe. Vamos \"traduzir\" os valores para fazermos gráficos e tabelas mais claros:"
   ]
  },
  {
   "cell_type": "code",
   "execution_count": 40,
   "metadata": {},
   "outputs": [
    {
     "data": {
      "text/plain": [
       "array(['3ª Classe', '1ª Classe', '2ª Classe'], dtype=object)"
      ]
     },
     "execution_count": 40,
     "metadata": {},
     "output_type": "execute_result"
    }
   ],
   "source": [
    "# Renomeando os valores\n",
    "df['pclass'] = df['pclass'].apply(lambda x: '3ª Classe' if x == 3 else ('2ª Classe' if x == 2 else '1ª Classe'))\n",
    "# Verificando\n",
    "df.pclass.unique()"
   ]
  },
  {
   "cell_type": "markdown",
   "metadata": {},
   "source": [
    "### Etapa 3: Análise dos dados em si para resposta à Pergunta 4 <a name=\"5.2\"></a>\n",
    "Agrupando os dados em um DataFrame:"
   ]
  },
  {
   "cell_type": "code",
   "execution_count": 41,
   "metadata": {},
   "outputs": [
    {
     "data": {
      "text/html": [
       "<div>\n",
       "<style scoped>\n",
       "    .dataframe tbody tr th:only-of-type {\n",
       "        vertical-align: middle;\n",
       "    }\n",
       "\n",
       "    .dataframe tbody tr th {\n",
       "        vertical-align: top;\n",
       "    }\n",
       "\n",
       "    .dataframe thead th {\n",
       "        text-align: right;\n",
       "    }\n",
       "</style>\n",
       "<table border=\"1\" class=\"dataframe\">\n",
       "  <thead>\n",
       "    <tr style=\"text-align: right;\">\n",
       "      <th></th>\n",
       "      <th>Quantity</th>\n",
       "    </tr>\n",
       "    <tr>\n",
       "      <th>pclass</th>\n",
       "      <th></th>\n",
       "    </tr>\n",
       "  </thead>\n",
       "  <tbody>\n",
       "    <tr>\n",
       "      <th>1ª Classe</th>\n",
       "      <td>216</td>\n",
       "    </tr>\n",
       "    <tr>\n",
       "      <th>2ª Classe</th>\n",
       "      <td>184</td>\n",
       "    </tr>\n",
       "    <tr>\n",
       "      <th>3ª Classe</th>\n",
       "      <td>491</td>\n",
       "    </tr>\n",
       "  </tbody>\n",
       "</table>\n",
       "</div>"
      ],
      "text/plain": [
       "           Quantity\n",
       "pclass             \n",
       "1ª Classe       216\n",
       "2ª Classe       184\n",
       "3ª Classe       491"
      ]
     },
     "execution_count": 41,
     "metadata": {},
     "output_type": "execute_result"
    }
   ],
   "source": [
    "df4 = df.groupby('pclass').size().to_frame()\n",
    "df4.rename(columns={0: \"Quantity\"}, inplace=True)\n",
    "df4"
   ]
  },
  {
   "cell_type": "markdown",
   "metadata": {},
   "source": [
    "Já podemos ver que a 3ª classe é a que teve mais passageiros, com a 1ª classe em segundo lugar e a 2ª, em terceiro. Adicionando valores proporcionais para conferirmos o quanto cada classe representa perante o total de passageiros:"
   ]
  },
  {
   "cell_type": "code",
   "execution_count": 42,
   "metadata": {},
   "outputs": [
    {
     "data": {
      "text/html": [
       "<div>\n",
       "<style scoped>\n",
       "    .dataframe tbody tr th:only-of-type {\n",
       "        vertical-align: middle;\n",
       "    }\n",
       "\n",
       "    .dataframe tbody tr th {\n",
       "        vertical-align: top;\n",
       "    }\n",
       "\n",
       "    .dataframe thead th {\n",
       "        text-align: right;\n",
       "    }\n",
       "</style>\n",
       "<table border=\"1\" class=\"dataframe\">\n",
       "  <thead>\n",
       "    <tr style=\"text-align: right;\">\n",
       "      <th></th>\n",
       "      <th>Quantity</th>\n",
       "      <th>class_proportion (%)</th>\n",
       "    </tr>\n",
       "    <tr>\n",
       "      <th>pclass</th>\n",
       "      <th></th>\n",
       "      <th></th>\n",
       "    </tr>\n",
       "  </thead>\n",
       "  <tbody>\n",
       "    <tr>\n",
       "      <th>1ª Classe</th>\n",
       "      <td>216</td>\n",
       "      <td>24.24</td>\n",
       "    </tr>\n",
       "    <tr>\n",
       "      <th>2ª Classe</th>\n",
       "      <td>184</td>\n",
       "      <td>20.65</td>\n",
       "    </tr>\n",
       "    <tr>\n",
       "      <th>3ª Classe</th>\n",
       "      <td>491</td>\n",
       "      <td>55.11</td>\n",
       "    </tr>\n",
       "  </tbody>\n",
       "</table>\n",
       "</div>"
      ],
      "text/plain": [
       "           Quantity  class_proportion (%)\n",
       "pclass                                   \n",
       "1ª Classe       216                 24.24\n",
       "2ª Classe       184                 20.65\n",
       "3ª Classe       491                 55.11"
      ]
     },
     "execution_count": 42,
     "metadata": {},
     "output_type": "execute_result"
    }
   ],
   "source": [
    "df4['class_proportion (%)'] = ((df4/df4.sum())*100).round(2)\n",
    "df4"
   ]
  },
  {
   "cell_type": "markdown",
   "metadata": {},
   "source": [
    "A 3ª classe recebeu mais da metade dos passageiros. O restante praticamente se dividiu entre as outras 2 classes.\n",
    "\n",
    "Para finalmente responder à pergunta, pordemos criar um gráfico que exiba os números de passageiros em cada classe, além das proporções respectivas:"
   ]
  },
  {
   "cell_type": "code",
   "execution_count": 313,
   "metadata": {
    "scrolled": false
   },
   "outputs": [
    {
     "data": {
      "image/png": "[encoded data removed]",
      "text/plain": [
       "<matplotlib.figure.Figure at 0x1e5ca96aba8>"
      ]
     },
     "metadata": {},
     "output_type": "display_data"
    }
   ],
   "source": [
    "# Dados do gráfico\n",
    "fig, ax7 = mpl.pyplot.subplots(figsize=(10, 10))\n",
    "eixo_x7 = np.arange(len(df4['Quantity'].value_counts()))\n",
    "eixo_y7 = df4['Quantity'].values\n",
    "eixo_y_proporcao_classe = df4['class_proportion (%)'].values\n",
    "\n",
    "# Estilo dos gráficos\n",
    "sns.set(style='ticks')\n",
    "mpl.pyplot.ylabel('Quantidade de passageiros', fontsize=18)\n",
    "mpl.pyplot.title('Passageiros em cada classe', fontsize=25)\n",
    "ax7.tick_params(labelsize=18)\n",
    "\n",
    "# Chamando o gráfico de barras\n",
    "grafico4 = ax7.bar(eixo_x7, eixo_y7, 0.7, color='darkblue', tick_label=df4.index.values.tolist(), label='Classe');\n",
    "mpl.pyplot.legend(prop={'size': 18}, loc = 0);\n",
    "mpl.pyplot.margins(y=0.2)\n",
    "\n",
    "# Adicionando as alturas das barras acima delas\n",
    "for i in grafico4:\n",
    "    height = i.get_height()\n",
    "    mpl.pyplot.text(i.get_x()+i.get_width()/2., height, '%s'% (height), ha = 'center', va='bottom', size='large')\n",
    "\n",
    "# Gráfico de linha\n",
    "ax8 = ax7.twinx()\n",
    "ax8.plot(eixo_x7, eixo_y_proporcao_classe, 'r-', label='Percentual perante o total')\n",
    "ax8.set_ylim(0, 100)\n",
    "ax8.set_ylabel('Percentual (%)')\n",
    "ax8.tick_params(labelsize=18)\n",
    "ax8.yaxis.label.set_size(18)\n",
    "mpl.pyplot.legend(prop={'size': 18}, loc = 9);"
   ]
  },
  {
   "cell_type": "markdown",
   "metadata": {},
   "source": [
    "Como vemos no gráfico, o número de passageiros na 3ª classe é maior do que a soma do número de passageiros nas outras duas classes.\n",
    "\n",
    "Podemos, ainda, exibir as mesmas informações em um gráfico de pizza, que exibe as proporções de uma maneira diferente:"
   ]
  },
  {
   "cell_type": "code",
   "execution_count": 46,
   "metadata": {},
   "outputs": [
    {
     "data": {
      "image/png": "[encoded data removed]",
      "text/plain": [
       "<matplotlib.figure.Figure at 0x1e5ca2cb080>"
      ]
     },
     "metadata": {},
     "output_type": "display_data"
    }
   ],
   "source": [
    "fig, ax10 = mpl.pyplot.subplots(figsize=(5, 5))\n",
    "\n",
    "# Chamando o gráfico\n",
    "patches, texts, autotexts = mpl.pyplot.pie(eixo_y7, labels=df4.index.values.tolist(),\n",
    "    autopct=make_autopct(eixo_y7),\n",
    "    shadow=False, startangle=90);\n",
    "\n",
    "# Estilo do gráfico\n",
    "mpl.pyplot.title('Passageiros em cada classe', fontsize=25) # Título do gráfico\n",
    "mpl.style.use('fivethirtyeight') # O Searborn não suporta gráficos de pizza, então usamos este modelo padrão do Matplotlib.\n",
    "texts = [ _.set_fontsize(15) for _ in texts ] # Aumenta as etiquetas da pizza"
   ]
  },
  {
   "cell_type": "markdown",
   "metadata": {},
   "source": [
    "### Etapa 4: Tomada de conclusões <a name=\"5.3\"></a>\n",
    "A partir dos dados acima, conclui-se que:\n",
    "- Em valores absolutos, as classes com mais passageiros foram, da mais cheia para a mais vazia:\n",
    " - 3ª (491 passageiros);\n",
    " - 1ª (216 passageiros);\n",
    " - 2ª (184 passageiros).\n",
    "- Já em termos proporcionais, as classes tiveram o seguinte percentual do total de passageiros:\n",
    " - 3ª: 55,11%;\n",
    " - 2ª: 20,65%;\n",
    " - 1ª: 24,24%."
   ]
  }
 ],
 "metadata": {
  "kernelspec": {
   "display_name": "Python 3",
   "language": "python",
   "name": "python3"
  },
  "language_info": {
   "codemirror_mode": {
    "name": "ipython",
    "version": 3
   },
   "file_extension": ".py",
   "mimetype": "text/x-python",
   "name": "python",
   "nbconvert_exporter": "python",
   "pygments_lexer": "ipython3",
   "version": "3.6.4"
  }
 },
 "nbformat": 4,
 "nbformat_minor": 2
}
